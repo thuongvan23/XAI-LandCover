{
  "metadata": {
    "kernelspec": {
      "language": "python",
      "display_name": "Python 3",
      "name": "python3"
    },
    "language_info": {
      "name": "python",
      "version": "3.11.11",
      "mimetype": "text/x-python",
      "codemirror_mode": {
        "name": "ipython",
        "version": 3
      },
      "pygments_lexer": "ipython3",
      "nbconvert_exporter": "python",
      "file_extension": ".py"
    },
    "kaggle": {
      "accelerator": "nvidiaTeslaT4",
      "dataSources": [
        {
          "sourceId": 1663377,
          "sourceType": "datasetVersion",
          "datasetId": 918039
        }
      ],
      "dockerImageVersionId": 31041,
      "isInternetEnabled": true,
      "language": "python",
      "sourceType": "notebook",
      "isGpuEnabled": true
    },
    "colab": {
      "provenance": [],
      "include_colab_link": true
    }
  },
  "nbformat_minor": 0,
  "nbformat": 4,
  "cells": [
    {
      "cell_type": "markdown",
      "metadata": {
        "id": "view-in-github",
        "colab_type": "text"
      },
      "source": [
        "<a href=\"https://colab.research.google.com/github/thuongvan23/XAI-LandCover/blob/nhanLD/Alexnet_satellite__frozen.ipynb\" target=\"_parent\"><img src=\"https://colab.research.google.com/assets/colab-badge.svg\" alt=\"Open In Colab\"/></a>"
      ]
    },
    {
      "cell_type": "code",
      "source": [
        "# This Python 3 environment comes with many helpful analytics libraries installed\n",
        "# It is defined by the kaggle/python Docker image: https://github.com/kaggle/docker-python\n",
        "# For example, here's several helpful packages to load\n",
        "\n",
        "import numpy as np # linear algebra\n",
        "import pandas as pd # data processing, CSV file I/O (e.g. pd.read_csv)\n",
        "\n",
        "# Input data files are available in the read-only \"../input/\" directory\n",
        "# For example, running this (by clicking run or pressing Shift+Enter) will list all files under the input directory\n",
        "\n",
        "import os\n",
        "for dirname, _, filenames in os.walk('/kaggle/input'):\n",
        "    for filename in filenames:\n",
        "        print(os.path.join(dirname, filename))\n",
        "\n",
        "# You can write up to 20GB to the current directory (/kaggle/working/) that gets preserved as output when you create a version using \"Save & Run All\"\n",
        "# You can also write temporary files to /kaggle/temp/, but they won't be saved outside of the current session"
      ],
      "metadata": {
        "id": "LxjMtpYOWDsh"
      },
      "execution_count": null,
      "outputs": []
    },
    {
      "cell_type": "code",
      "source": [
        "pip install rasterio"
      ],
      "metadata": {
        "trusted": true,
        "execution": {
          "iopub.status.busy": "2025-05-31T10:56:19.927499Z",
          "iopub.execute_input": "2025-05-31T10:56:19.928169Z",
          "iopub.status.idle": "2025-05-31T10:56:25.219759Z",
          "shell.execute_reply.started": "2025-05-31T10:56:19.928147Z",
          "shell.execute_reply": "2025-05-31T10:56:25.218863Z"
        },
        "id": "2VYix9NkUuOq",
        "outputId": "18ccf5d8-48f9-4eeb-b943-08c7634d86ce"
      },
      "outputs": [
        {
          "name": "stdout",
          "text": "Collecting rasterio\n  Downloading rasterio-1.4.3-cp311-cp311-manylinux_2_17_x86_64.manylinux2014_x86_64.whl.metadata (9.1 kB)\nCollecting affine (from rasterio)\n  Downloading affine-2.4.0-py3-none-any.whl.metadata (4.0 kB)\nRequirement already satisfied: attrs in /usr/local/lib/python3.11/dist-packages (from rasterio) (25.3.0)\nRequirement already satisfied: certifi in /usr/local/lib/python3.11/dist-packages (from rasterio) (2025.4.26)\nRequirement already satisfied: click>=4.0 in /usr/local/lib/python3.11/dist-packages (from rasterio) (8.1.8)\nRequirement already satisfied: cligj>=0.5 in /usr/local/lib/python3.11/dist-packages (from rasterio) (0.7.2)\nRequirement already satisfied: numpy>=1.24 in /usr/local/lib/python3.11/dist-packages (from rasterio) (1.26.4)\nRequirement already satisfied: click-plugins in /usr/local/lib/python3.11/dist-packages (from rasterio) (1.1.1)\nRequirement already satisfied: pyparsing in /usr/local/lib/python3.11/dist-packages (from rasterio) (3.0.9)\nRequirement already satisfied: mkl_fft in /usr/local/lib/python3.11/dist-packages (from numpy>=1.24->rasterio) (1.3.8)\nRequirement already satisfied: mkl_random in /usr/local/lib/python3.11/dist-packages (from numpy>=1.24->rasterio) (1.2.4)\nRequirement already satisfied: mkl_umath in /usr/local/lib/python3.11/dist-packages (from numpy>=1.24->rasterio) (0.1.1)\nRequirement already satisfied: mkl in /usr/local/lib/python3.11/dist-packages (from numpy>=1.24->rasterio) (2025.1.0)\nRequirement already satisfied: tbb4py in /usr/local/lib/python3.11/dist-packages (from numpy>=1.24->rasterio) (2022.1.0)\nRequirement already satisfied: mkl-service in /usr/local/lib/python3.11/dist-packages (from numpy>=1.24->rasterio) (2.4.1)\nRequirement already satisfied: intel-openmp<2026,>=2024 in /usr/local/lib/python3.11/dist-packages (from mkl->numpy>=1.24->rasterio) (2024.2.0)\nRequirement already satisfied: tbb==2022.* in /usr/local/lib/python3.11/dist-packages (from mkl->numpy>=1.24->rasterio) (2022.1.0)\nRequirement already satisfied: tcmlib==1.* in /usr/local/lib/python3.11/dist-packages (from tbb==2022.*->mkl->numpy>=1.24->rasterio) (1.3.0)\nRequirement already satisfied: intel-cmplr-lib-rt in /usr/local/lib/python3.11/dist-packages (from mkl_umath->numpy>=1.24->rasterio) (2024.2.0)\nRequirement already satisfied: intel-cmplr-lib-ur==2024.2.0 in /usr/local/lib/python3.11/dist-packages (from intel-openmp<2026,>=2024->mkl->numpy>=1.24->rasterio) (2024.2.0)\nDownloading rasterio-1.4.3-cp311-cp311-manylinux_2_17_x86_64.manylinux2014_x86_64.whl (22.2 MB)\n\u001b[2K   \u001b[90m━━━━━━━━━━━━━━━━━━━━━━━━━━━━━━━━━━━━━━━━\u001b[0m \u001b[32m22.2/22.2 MB\u001b[0m \u001b[31m81.9 MB/s\u001b[0m eta \u001b[36m0:00:00\u001b[0m:00:01\u001b[0m00:01\u001b[0m\n\u001b[?25hDownloading affine-2.4.0-py3-none-any.whl (15 kB)\nInstalling collected packages: affine, rasterio\nSuccessfully installed affine-2.4.0 rasterio-1.4.3\nNote: you may need to restart the kernel to use updated packages.\n",
          "output_type": "stream"
        }
      ],
      "execution_count": null
    },
    {
      "cell_type": "code",
      "source": [
        "pip install albumentations"
      ],
      "metadata": {
        "trusted": true,
        "execution": {
          "iopub.status.busy": "2025-05-31T10:58:04.699253Z",
          "iopub.execute_input": "2025-05-31T10:58:04.699873Z",
          "iopub.status.idle": "2025-05-31T10:58:07.991696Z",
          "shell.execute_reply.started": "2025-05-31T10:58:04.699830Z",
          "shell.execute_reply": "2025-05-31T10:58:07.990714Z"
        },
        "id": "iIA3MzfSUuOr",
        "outputId": "722a7f06-f4d8-4bf6-ccf1-3bd763eec0d7"
      },
      "outputs": [
        {
          "name": "stdout",
          "text": "Requirement already satisfied: albumentations in /usr/local/lib/python3.11/dist-packages (2.0.5)\nRequirement already satisfied: numpy>=1.24.4 in /usr/local/lib/python3.11/dist-packages (from albumentations) (1.26.4)\nRequirement already satisfied: scipy>=1.10.0 in /usr/local/lib/python3.11/dist-packages (from albumentations) (1.15.2)\nRequirement already satisfied: PyYAML in /usr/local/lib/python3.11/dist-packages (from albumentations) (6.0.2)\nRequirement already satisfied: pydantic>=2.9.2 in /usr/local/lib/python3.11/dist-packages (from albumentations) (2.11.4)\nRequirement already satisfied: albucore==0.0.23 in /usr/local/lib/python3.11/dist-packages (from albumentations) (0.0.23)\nRequirement already satisfied: opencv-python-headless>=4.9.0.80 in /usr/local/lib/python3.11/dist-packages (from albumentations) (4.11.0.86)\nRequirement already satisfied: stringzilla>=3.10.4 in /usr/local/lib/python3.11/dist-packages (from albucore==0.0.23->albumentations) (3.12.3)\nRequirement already satisfied: simsimd>=5.9.2 in /usr/local/lib/python3.11/dist-packages (from albucore==0.0.23->albumentations) (6.2.1)\nRequirement already satisfied: mkl_fft in /usr/local/lib/python3.11/dist-packages (from numpy>=1.24.4->albumentations) (1.3.8)\nRequirement already satisfied: mkl_random in /usr/local/lib/python3.11/dist-packages (from numpy>=1.24.4->albumentations) (1.2.4)\nRequirement already satisfied: mkl_umath in /usr/local/lib/python3.11/dist-packages (from numpy>=1.24.4->albumentations) (0.1.1)\nRequirement already satisfied: mkl in /usr/local/lib/python3.11/dist-packages (from numpy>=1.24.4->albumentations) (2025.1.0)\nRequirement already satisfied: tbb4py in /usr/local/lib/python3.11/dist-packages (from numpy>=1.24.4->albumentations) (2022.1.0)\nRequirement already satisfied: mkl-service in /usr/local/lib/python3.11/dist-packages (from numpy>=1.24.4->albumentations) (2.4.1)\nRequirement already satisfied: annotated-types>=0.6.0 in /usr/local/lib/python3.11/dist-packages (from pydantic>=2.9.2->albumentations) (0.7.0)\nRequirement already satisfied: pydantic-core==2.33.2 in /usr/local/lib/python3.11/dist-packages (from pydantic>=2.9.2->albumentations) (2.33.2)\nRequirement already satisfied: typing-extensions>=4.12.2 in /usr/local/lib/python3.11/dist-packages (from pydantic>=2.9.2->albumentations) (4.13.2)\nRequirement already satisfied: typing-inspection>=0.4.0 in /usr/local/lib/python3.11/dist-packages (from pydantic>=2.9.2->albumentations) (0.4.0)\nRequirement already satisfied: intel-openmp<2026,>=2024 in /usr/local/lib/python3.11/dist-packages (from mkl->numpy>=1.24.4->albumentations) (2024.2.0)\nRequirement already satisfied: tbb==2022.* in /usr/local/lib/python3.11/dist-packages (from mkl->numpy>=1.24.4->albumentations) (2022.1.0)\nRequirement already satisfied: tcmlib==1.* in /usr/local/lib/python3.11/dist-packages (from tbb==2022.*->mkl->numpy>=1.24.4->albumentations) (1.3.0)\nRequirement already satisfied: intel-cmplr-lib-rt in /usr/local/lib/python3.11/dist-packages (from mkl_umath->numpy>=1.24.4->albumentations) (2024.2.0)\nRequirement already satisfied: intel-cmplr-lib-ur==2024.2.0 in /usr/local/lib/python3.11/dist-packages (from intel-openmp<2026,>=2024->mkl->numpy>=1.24.4->albumentations) (2024.2.0)\nNote: you may need to restart the kernel to use updated packages.\n",
          "output_type": "stream"
        }
      ],
      "execution_count": null
    },
    {
      "cell_type": "code",
      "source": [
        "import tifffile as tiff\n",
        "import numpy as np\n",
        "import os\n",
        "\n",
        "# Đường dẫn đến 1 ảnh cụ thể\n",
        "img_path = \"/kaggle/input/eurosat-dataset/EuroSATallBands/AnnualCrop/AnnualCrop_1.tif\"\n",
        "\n",
        "# Đọc ảnh\n",
        "img = tiff.imread(img_path)\n",
        "\n",
        "# In shape và giá trị pixel đầu tiên\n",
        "print(\"Shape của ảnh:\", img.shape)\n",
        "print(\"Pixel đầu tiên:\", img[0, 0])\n",
        "\n",
        "# Chuẩn hóa giá trị pixel trong dải từ 0 đến 1\n",
        "img_normalized = img / np.max(img)\n",
        "\n",
        "print(np.max(img))\n",
        "\n",
        "# Kiểm tra pixel sau khi chuẩn hóa\n",
        "print(\"Pixel đầu tiên (sau khi chuẩn hóa):\", img_normalized[0, 0])\n",
        "\n",
        "root_dir = \"/kaggle/input/eurosat-dataset/EuroSATallBands\"\n",
        "\n",
        "for root, dirs, files in os.walk(root_dir):\n",
        "    level = root.replace(root_dir, '').count(os.sep)\n",
        "    indent = ' ' * 2 * level\n",
        "    print(f\"{indent}{os.path.basename(root)}/\")\n",
        "    subindent = ' ' * 2 * (level + 1)\n",
        "    for f in files[:5]:\n",
        "        print(f\"{subindent}{f}\")"
      ],
      "metadata": {
        "trusted": true,
        "execution": {
          "iopub.status.busy": "2025-05-31T10:58:07.992820Z",
          "iopub.execute_input": "2025-05-31T10:58:07.993097Z",
          "iopub.status.idle": "2025-05-31T10:58:17.646084Z",
          "shell.execute_reply.started": "2025-05-31T10:58:07.993067Z",
          "shell.execute_reply": "2025-05-31T10:58:17.645477Z"
        },
        "id": "uAgKsDDrUuOr",
        "outputId": "5e41c625-7085-4aa0-f1d4-625d2220932f"
      },
      "outputs": [
        {
          "name": "stdout",
          "text": "Shape của ảnh: (64, 64, 13)\nPixel đầu tiên: [1420 1291 1291 1600 1680 1841 2045 2016  546   13 3083 2325 2319]\n3490\nPixel đầu tiên (sau khi chuẩn hóa): [0.40687679 0.36991404 0.36991404 0.45845272 0.48137536 0.52750716\n 0.58595989 0.57765043 0.15644699 0.00372493 0.88338109 0.66618911\n 0.66446991]\nEuroSATallBands/\n  validation.csv\n  train.csv\n  test.csv\n  label_map.json\n  SeaLake/\n    SeaLake_2893.tif\n    Jakarta_000334.tif\n    SeaLake_2765.tif\n    SeaLake_2733.tif\n    SeaLake_1037.tif\n  Highway/\n    Highway_1963.tif\n    Highway_51.tif\n    Highway_102.tif\n    Highway_1603.tif\n    Highway_1224.tif\n  River/\n    River_173.tif\n    River_761.tif\n    River_2499.tif\n    River_247.tif\n    River_926.tif\n  Pasture/\n    Pasture_666.tif\n    Pasture_482.tif\n    Pasture_263.tif\n    Pasture_1339.tif\n    Pasture_690.tif\n  Industrial/\n    Industrial_2122.tif\n    Industrial_725.tif\n    Industrial_61.tif\n    Industrial_1093.tif\n    Industrial_1944.tif\n  Residential/\n    Residential_1412.tif\n    Residential_2694.tif\n    Residential_890.tif\n    Residential_1293.tif\n    Residential_1737.tif\n  PermanentCrop/\n    PermanentCrop_1014.tif\n    PermanentCrop_1930.tif\n    PermanentCrop_1517.tif\n    PermanentCrop_1184.tif\n    PermanentCrop_2449.tif\n  AnnualCrop/\n    AnnualCrop_2686.tif\n    AnnualCrop_1682.tif\n    AnnualCrop_914.tif\n    AnnualCrop_1153.tif\n    AnnualCrop_2694.tif\n  Forest/\n    Forest_2203.tif\n    Forest_903.tif\n    Forest_1169.tif\n    Forest_2009.tif\n    Forest_2237.tif\n  HerbaceousVegetation/\n    HerbaceousVegetation_1893.tif\n    HerbaceousVegetation_1118.tif\n    HerbaceousVegetation_1135.tif\n    HerbaceousVegetation_519.tif\n    HerbaceousVegetation_376.tif\n",
          "output_type": "stream"
        }
      ],
      "execution_count": null
    },
    {
      "cell_type": "code",
      "source": [
        "import albumentations as A\n",
        "from albumentations.pytorch import ToTensorV2\n",
        "\n",
        "# Tạo transform\n",
        "train_transform = A.Compose([\n",
        "    A.HorizontalFlip(p=0.5),\n",
        "    A.VerticalFlip(p=0.5),\n",
        "    A.RandomRotate90(p=0.5),\n",
        "    A.ShiftScaleRotate(shift_limit=0.1, scale_limit=0.1, rotate_limit=15, p=0.5),\n",
        "    A.Normalize(mean=0.0, std=1.0, max_pixel_value=1.0),\n",
        "    ToTensorV2(transpose_mask=True),\n",
        "])"
      ],
      "metadata": {
        "trusted": true,
        "execution": {
          "iopub.status.busy": "2025-05-31T10:58:17.647399Z",
          "iopub.execute_input": "2025-05-31T10:58:17.647641Z",
          "iopub.status.idle": "2025-05-31T10:58:21.119622Z",
          "shell.execute_reply.started": "2025-05-31T10:58:17.647624Z",
          "shell.execute_reply": "2025-05-31T10:58:21.118957Z"
        },
        "id": "1Q3nNKiJUuOs",
        "outputId": "fd4e5e43-26fb-46a0-e94e-1548314997ba"
      },
      "outputs": [
        {
          "name": "stderr",
          "text": "/usr/local/lib/python3.11/dist-packages/albumentations/__init__.py:28: UserWarning: A new version of Albumentations is available: '2.0.8' (you have '2.0.5'). Upgrade using: pip install -U albumentations. To disable automatic update checks, set the environment variable NO_ALBUMENTATIONS_UPDATE to 1.\n  check_for_updates()\n/usr/local/lib/python3.11/dist-packages/albumentations/core/validation.py:87: UserWarning: ShiftScaleRotate is a special case of Affine transform. Please use Affine transform instead.\n  original_init(self, **validated_kwargs)\n",
          "output_type": "stream"
        }
      ],
      "execution_count": null
    },
    {
      "cell_type": "code",
      "source": [
        "import pandas as pd\n",
        "import os\n",
        "import torch\n",
        "from torch.utils.data import Dataset\n",
        "import rasterio\n",
        "import numpy as np\n",
        "\n",
        "class EuroSATCSV(Dataset):\n",
        "    def __init__(self, csv_file, root_dir, transform=None):\n",
        "        self.data = pd.read_csv(csv_file)\n",
        "        self.root_dir = root_dir\n",
        "        self.transform = transform\n",
        "\n",
        "    def __len__(self):\n",
        "        return len(self.data)\n",
        "\n",
        "    def __getitem__(self, idx):\n",
        "      row = self.data.iloc[idx]\n",
        "      img_path = os.path.join(self.root_dir, row['Filename'])\n",
        "      label = int(row['Label'])\n",
        "\n",
        "      with rasterio.open(img_path) as src:\n",
        "          img = src.read().astype(np.float32)  # (13, 64, 64)\n",
        "          img = img / 10000.0\n",
        "          img = np.transpose(img, (1, 2, 0))  # (H, W, C) cho albumentations\n",
        "\n",
        "      if self.transform:\n",
        "          img = self.transform(image=img)[\"image\"]  # vẫn là (H, W, C)\n",
        "\n",
        "      img = np.transpose(img, (2, 0, 1))  # Chuyển về (C, H, W) cho PyTorch\n",
        "      img = torch.tensor(img, dtype=torch.float32)\n",
        "\n",
        "      return img, label"
      ],
      "metadata": {
        "trusted": true,
        "execution": {
          "iopub.status.busy": "2025-05-31T10:58:28.241823Z",
          "iopub.execute_input": "2025-05-31T10:58:28.242267Z",
          "iopub.status.idle": "2025-05-31T10:58:28.876962Z",
          "shell.execute_reply.started": "2025-05-31T10:58:28.242243Z",
          "shell.execute_reply": "2025-05-31T10:58:28.876431Z"
        },
        "id": "1pX78QtgUuOs"
      },
      "outputs": [],
      "execution_count": null
    },
    {
      "cell_type": "code",
      "source": [
        "base_path = \"/kaggle/input/eurosat-dataset/EuroSATallBands\"\n",
        "\n",
        "train_dataset = EuroSATCSV(\n",
        "    csv_file=os.path.join(base_path, \"train.csv\"),\n",
        "    root_dir=base_path,\n",
        ")\n",
        "\n",
        "val_dataset = EuroSATCSV(\n",
        "    csv_file=os.path.join(base_path, \"validation.csv\"),\n",
        "    root_dir=base_path,\n",
        ")\n",
        "\n",
        "test_dataset = EuroSATCSV(\n",
        "    csv_file=os.path.join(base_path, \"test.csv\"),\n",
        "    root_dir=base_path,\n",
        ")"
      ],
      "metadata": {
        "trusted": true,
        "execution": {
          "iopub.status.busy": "2025-05-31T10:58:30.841550Z",
          "iopub.execute_input": "2025-05-31T10:58:30.842018Z",
          "iopub.status.idle": "2025-05-31T10:58:30.914698Z",
          "shell.execute_reply.started": "2025-05-31T10:58:30.841994Z",
          "shell.execute_reply": "2025-05-31T10:58:30.914056Z"
        },
        "id": "-pw2cNwjUuOt"
      },
      "outputs": [],
      "execution_count": null
    },
    {
      "cell_type": "code",
      "source": [
        "from torch.utils.data import DataLoader\n",
        "\n",
        "train_loader = DataLoader(train_dataset, batch_size=32, shuffle=True)\n",
        "val_loader = DataLoader(val_dataset, batch_size=32)\n",
        "test_loader = DataLoader(test_dataset, batch_size=32)"
      ],
      "metadata": {
        "trusted": true,
        "execution": {
          "iopub.status.busy": "2025-05-31T10:58:34.381979Z",
          "iopub.execute_input": "2025-05-31T10:58:34.382270Z",
          "iopub.status.idle": "2025-05-31T10:58:34.386644Z",
          "shell.execute_reply.started": "2025-05-31T10:58:34.382248Z",
          "shell.execute_reply": "2025-05-31T10:58:34.386056Z"
        },
        "id": "qlBqOtinUuOt"
      },
      "outputs": [],
      "execution_count": null
    },
    {
      "cell_type": "code",
      "source": [
        "import torch\n",
        "import torch.nn as nn\n",
        "from torchvision import models\n",
        "from torchvision.models import alexnet\n",
        "from torch.optim.lr_scheduler import ReduceLROnPlateau\n",
        "\n",
        "\n",
        "class get_finetuned_alexnet(nn.Module):\n",
        "    def __init__(self, num_classes=10, in_channels=13):\n",
        "        super(get_finetuned_alexnet, self).__init__()\n",
        "        # Tạo mô hình AlexNet mà không pretrained\n",
        "        self.backbone = models.alexnet(pretrained=False)\n",
        "\n",
        "        # Thay đổi layer conv đầu để nhận 13 kênh\n",
        "        self.backbone.features[0] = nn.Conv2d(\n",
        "            in_channels,\n",
        "            64,\n",
        "            kernel_size=11,\n",
        "            stride=4,\n",
        "            padding=2\n",
        "        )\n",
        "\n",
        "        # Đóng băng toàn bộ phần backbone (features)\n",
        "        for param in self.backbone.features.parameters():\n",
        "            param.requires_grad = False\n",
        "\n",
        "        # Thay thế phần classification head (chỉ phần này sẽ được huấn luyện)\n",
        "        self.backbone.classifier = nn.Sequential(\n",
        "            nn.Dropout(0.5),\n",
        "            nn.Linear(256 * 6 * 6, 512),\n",
        "            nn.ReLU(inplace=True),\n",
        "            nn.Dropout(0.5),\n",
        "            nn.Linear(512, num_classes)\n",
        "        )\n",
        "\n",
        "    def forward(self, x):\n",
        "        return self.backbone(x)"
      ],
      "metadata": {
        "trusted": true,
        "execution": {
          "iopub.status.busy": "2025-05-31T11:00:04.523837Z",
          "iopub.execute_input": "2025-05-31T11:00:04.524419Z",
          "iopub.status.idle": "2025-05-31T11:00:04.530504Z",
          "shell.execute_reply.started": "2025-05-31T11:00:04.524398Z",
          "shell.execute_reply": "2025-05-31T11:00:04.529744Z"
        },
        "id": "iroKq_4kUuOt"
      },
      "outputs": [],
      "execution_count": null
    },
    {
      "cell_type": "code",
      "source": [
        "class EarlyStopping:\n",
        "    def __init__(self, patience=7, delta=0.001):\n",
        "        self.patience = patience\n",
        "        self.delta = delta\n",
        "        self.counter = 0\n",
        "        self.best_loss = float('inf')\n",
        "        self.early_stop = False\n",
        "\n",
        "    def __call__(self, val_loss):\n",
        "        if val_loss < self.best_loss - self.delta:\n",
        "            self.best_loss = val_loss\n",
        "            self.counter = 0\n",
        "        else:\n",
        "            self.counter += 1\n",
        "            if self.counter >= self.patience:\n",
        "                self.early_stop = True"
      ],
      "metadata": {
        "trusted": true,
        "execution": {
          "iopub.status.busy": "2025-05-31T11:00:07.394731Z",
          "iopub.execute_input": "2025-05-31T11:00:07.395006Z",
          "iopub.status.idle": "2025-05-31T11:00:07.399639Z",
          "shell.execute_reply.started": "2025-05-31T11:00:07.394985Z",
          "shell.execute_reply": "2025-05-31T11:00:07.398858Z"
        },
        "id": "HyQ6nHojUuOu"
      },
      "outputs": [],
      "execution_count": null
    },
    {
      "cell_type": "code",
      "source": [
        "# 4. Vòng lặp train/eval\n",
        "def train_one_epoch(model, dataloader, optimizer, criterion, device):\n",
        "    model.train()\n",
        "    total_loss, correct, total = 0, 0, 0\n",
        "    for inputs, labels in dataloader:\n",
        "        inputs, labels = inputs.to(device), labels.to(device)\n",
        "        optimizer.zero_grad()\n",
        "        outputs = model(inputs)\n",
        "        loss = criterion(outputs, labels)\n",
        "        loss.backward()\n",
        "        optimizer.step()\n",
        "\n",
        "        total_loss += loss.item() * inputs.size(0)\n",
        "        _, preds = outputs.max(1)\n",
        "        correct += preds.eq(labels).sum().item()\n",
        "        total += labels.size(0)\n",
        "    return total_loss / total, correct / total\n",
        "\n",
        "def evaluate(model, dataloader, criterion, device):\n",
        "    model.eval()\n",
        "    total_loss, correct, total = 0, 0, 0\n",
        "    with torch.no_grad():\n",
        "        for inputs, labels in dataloader:\n",
        "            inputs, labels = inputs.to(device), labels.to(device)\n",
        "            outputs = model(inputs)\n",
        "            loss = criterion(outputs, labels)\n",
        "            total_loss += loss.item() * inputs.size(0)\n",
        "            _, preds = outputs.max(1)\n",
        "            correct += preds.eq(labels).sum().item()\n",
        "            total += labels.size(0)\n",
        "    return total_loss / total, correct / total"
      ],
      "metadata": {
        "trusted": true,
        "execution": {
          "iopub.status.busy": "2025-05-31T11:00:09.598526Z",
          "iopub.execute_input": "2025-05-31T11:00:09.598816Z",
          "iopub.status.idle": "2025-05-31T11:00:09.605523Z",
          "shell.execute_reply.started": "2025-05-31T11:00:09.598794Z",
          "shell.execute_reply": "2025-05-31T11:00:09.604659Z"
        },
        "id": "k5S3KSo9UuOu"
      },
      "outputs": [],
      "execution_count": null
    },
    {
      "cell_type": "code",
      "source": [
        "#5. TRAINING THE MODEL\n",
        "device = torch.device(\"cuda\" if torch.cuda.is_available() else \"cpu\")\n",
        "model = get_finetuned_alexnet(num_classes=10, in_channels=13).to(device)\n",
        "\n",
        "# Chỉ train phần classification head (_fc)\n",
        "optimizer = torch.optim.Adam(filter(lambda p: p.requires_grad, model.parameters()), lr=1e-3)\n",
        "criterion = nn.CrossEntropyLoss()\n",
        "\n",
        "def train_model(model, train_loader, val_loader, optimizer, criterion, device, epochs=50):\n",
        "    early_stopping = EarlyStopping(patience=5, delta=0.001)\n",
        "    scheduler = ReduceLROnPlateau(optimizer, mode='min', factor=0.5, patience=3, verbose=True)\n",
        "\n",
        "    for epoch in range(epochs):\n",
        "        train_loss, train_acc = train_one_epoch(model, train_loader, optimizer, criterion, device)\n",
        "        val_loss, val_acc = evaluate(model, val_loader, criterion, device)\n",
        "        scheduler.step(val_loss)\n",
        "        early_stopping(val_loss)\n",
        "\n",
        "        print(f\"Epoch {epoch+1}/{epochs}:\")\n",
        "        print(f\"  Train Loss: {train_loss:.4f} | Train Acc: {train_acc:.4f}\")\n",
        "        print(f\"  Val   Loss: {val_loss:.4f} | Val   Acc: {val_acc:.4f}\")\n",
        "        print(f\"  Learning rate: {optimizer.param_groups[0]['lr']:.6f}\")\n",
        "\n",
        "        if early_stopping.early_stop:\n",
        "            print(\"Early stopping triggered.\")\n",
        "            break\n",
        "\n",
        "train_model(model, train_loader, val_loader, optimizer, criterion, device, epochs=50)"
      ],
      "metadata": {
        "trusted": true,
        "execution": {
          "iopub.status.busy": "2025-05-31T11:00:24.124195Z",
          "iopub.execute_input": "2025-05-31T11:00:24.124901Z",
          "iopub.status.idle": "2025-05-31T12:20:03.350622Z",
          "shell.execute_reply.started": "2025-05-31T11:00:24.124876Z",
          "shell.execute_reply": "2025-05-31T12:20:03.349746Z"
        },
        "id": "QLEvOPXgUuOu",
        "outputId": "49046afa-4110-4836-f7be-cc58bb63272e"
      },
      "outputs": [
        {
          "name": "stderr",
          "text": "/usr/local/lib/python3.11/dist-packages/torchvision/models/_utils.py:208: UserWarning: The parameter 'pretrained' is deprecated since 0.13 and may be removed in the future, please use 'weights' instead.\n  warnings.warn(\n/usr/local/lib/python3.11/dist-packages/torchvision/models/_utils.py:223: UserWarning: Arguments other than a weight enum or `None` for 'weights' are deprecated since 0.13 and may be removed in the future. The current behavior is equivalent to passing `weights=None`.\n  warnings.warn(msg)\n/usr/local/lib/python3.11/dist-packages/torch/optim/lr_scheduler.py:62: UserWarning: The verbose parameter is deprecated. Please use get_last_lr() to access the learning rate.\n  warnings.warn(\n",
          "output_type": "stream"
        },
        {
          "name": "stdout",
          "text": "Epoch 1/50:\n  Train Loss: 1.9203 | Train Acc: 0.2817\n  Val   Loss: 1.7331 | Val   Acc: 0.3437\n  Learning rate: 0.001000\nEpoch 2/50:\n  Train Loss: 1.6997 | Train Acc: 0.3642\n  Val   Loss: 1.5538 | Val   Acc: 0.4385\n  Learning rate: 0.001000\nEpoch 3/50:\n  Train Loss: 1.5658 | Train Acc: 0.4266\n  Val   Loss: 1.4135 | Val   Acc: 0.5095\n  Learning rate: 0.001000\nEpoch 4/50:\n  Train Loss: 1.4818 | Train Acc: 0.4515\n  Val   Loss: 1.3520 | Val   Acc: 0.5458\n  Learning rate: 0.001000\nEpoch 5/50:\n  Train Loss: 1.4336 | Train Acc: 0.4734\n  Val   Loss: 1.2718 | Val   Acc: 0.5459\n  Learning rate: 0.001000\nEpoch 6/50:\n  Train Loss: 1.3767 | Train Acc: 0.4913\n  Val   Loss: 1.2189 | Val   Acc: 0.5735\n  Learning rate: 0.001000\nEpoch 7/50:\n  Train Loss: 1.3512 | Train Acc: 0.5053\n  Val   Loss: 1.2023 | Val   Acc: 0.5682\n  Learning rate: 0.001000\nEpoch 8/50:\n  Train Loss: 1.3231 | Train Acc: 0.5173\n  Val   Loss: 1.1616 | Val   Acc: 0.5863\n  Learning rate: 0.001000\nEpoch 9/50:\n  Train Loss: 1.3040 | Train Acc: 0.5252\n  Val   Loss: 1.1333 | Val   Acc: 0.6133\n  Learning rate: 0.001000\nEpoch 10/50:\n  Train Loss: 1.2840 | Train Acc: 0.5314\n  Val   Loss: 1.1147 | Val   Acc: 0.6026\n  Learning rate: 0.001000\nEpoch 11/50:\n  Train Loss: 1.2687 | Train Acc: 0.5335\n  Val   Loss: 1.1291 | Val   Acc: 0.6267\n  Learning rate: 0.001000\nEpoch 12/50:\n  Train Loss: 1.2618 | Train Acc: 0.5369\n  Val   Loss: 1.0850 | Val   Acc: 0.6164\n  Learning rate: 0.001000\nEpoch 13/50:\n  Train Loss: 1.2503 | Train Acc: 0.5422\n  Val   Loss: 1.0859 | Val   Acc: 0.6324\n  Learning rate: 0.001000\nEpoch 14/50:\n  Train Loss: 1.2440 | Train Acc: 0.5420\n  Val   Loss: 1.0845 | Val   Acc: 0.6302\n  Learning rate: 0.001000\nEpoch 15/50:\n  Train Loss: 1.2320 | Train Acc: 0.5470\n  Val   Loss: 1.0706 | Val   Acc: 0.6383\n  Learning rate: 0.001000\nEpoch 16/50:\n  Train Loss: 1.2362 | Train Acc: 0.5489\n  Val   Loss: 1.0495 | Val   Acc: 0.6380\n  Learning rate: 0.001000\nEpoch 17/50:\n  Train Loss: 1.2267 | Train Acc: 0.5498\n  Val   Loss: 1.0855 | Val   Acc: 0.6023\n  Learning rate: 0.001000\nEpoch 18/50:\n  Train Loss: 1.2199 | Train Acc: 0.5531\n  Val   Loss: 1.0417 | Val   Acc: 0.6327\n  Learning rate: 0.001000\nEpoch 19/50:\n  Train Loss: 1.2197 | Train Acc: 0.5529\n  Val   Loss: 1.0458 | Val   Acc: 0.6447\n  Learning rate: 0.001000\nEpoch 20/50:\n  Train Loss: 1.2089 | Train Acc: 0.5576\n  Val   Loss: 1.0321 | Val   Acc: 0.6432\n  Learning rate: 0.001000\nEpoch 21/50:\n  Train Loss: 1.2067 | Train Acc: 0.5571\n  Val   Loss: 1.0624 | Val   Acc: 0.6217\n  Learning rate: 0.001000\nEpoch 22/50:\n  Train Loss: 1.2066 | Train Acc: 0.5592\n  Val   Loss: 1.0040 | Val   Acc: 0.6479\n  Learning rate: 0.001000\nEpoch 23/50:\n  Train Loss: 1.1997 | Train Acc: 0.5610\n  Val   Loss: 1.0134 | Val   Acc: 0.6581\n  Learning rate: 0.001000\nEpoch 24/50:\n  Train Loss: 1.1905 | Train Acc: 0.5676\n  Val   Loss: 1.0153 | Val   Acc: 0.6516\n  Learning rate: 0.001000\nEpoch 25/50:\n  Train Loss: 1.1974 | Train Acc: 0.5619\n  Val   Loss: 1.0120 | Val   Acc: 0.6461\n  Learning rate: 0.001000\nEpoch 26/50:\n  Train Loss: 1.1908 | Train Acc: 0.5669\n  Val   Loss: 1.0291 | Val   Acc: 0.6628\n  Learning rate: 0.000500\nEpoch 27/50:\n  Train Loss: 1.1649 | Train Acc: 0.5736\n  Val   Loss: 0.9985 | Val   Acc: 0.6583\n  Learning rate: 0.000500\nEpoch 28/50:\n  Train Loss: 1.1607 | Train Acc: 0.5756\n  Val   Loss: 0.9921 | Val   Acc: 0.6574\n  Learning rate: 0.000500\nEpoch 29/50:\n  Train Loss: 1.1532 | Train Acc: 0.5785\n  Val   Loss: 0.9943 | Val   Acc: 0.6588\n  Learning rate: 0.000500\nEpoch 30/50:\n  Train Loss: 1.1492 | Train Acc: 0.5836\n  Val   Loss: 0.9736 | Val   Acc: 0.6682\n  Learning rate: 0.000500\nEpoch 31/50:\n  Train Loss: 1.1533 | Train Acc: 0.5825\n  Val   Loss: 0.9925 | Val   Acc: 0.6677\n  Learning rate: 0.000500\nEpoch 32/50:\n  Train Loss: 1.1429 | Train Acc: 0.5859\n  Val   Loss: 0.9798 | Val   Acc: 0.6628\n  Learning rate: 0.000500\nEpoch 33/50:\n  Train Loss: 1.1489 | Train Acc: 0.5830\n  Val   Loss: 0.9928 | Val   Acc: 0.6514\n  Learning rate: 0.000500\nEpoch 34/50:\n  Train Loss: 1.1498 | Train Acc: 0.5822\n  Val   Loss: 0.9865 | Val   Acc: 0.6603\n  Learning rate: 0.000250\nEpoch 35/50:\n  Train Loss: 1.1368 | Train Acc: 0.5858\n  Val   Loss: 0.9725 | Val   Acc: 0.6708\n  Learning rate: 0.000250\nEpoch 36/50:\n  Train Loss: 1.1265 | Train Acc: 0.5885\n  Val   Loss: 0.9771 | Val   Acc: 0.6610\n  Learning rate: 0.000250\nEpoch 37/50:\n  Train Loss: 1.1216 | Train Acc: 0.5911\n  Val   Loss: 0.9660 | Val   Acc: 0.6724\n  Learning rate: 0.000250\nEpoch 38/50:\n  Train Loss: 1.1232 | Train Acc: 0.5940\n  Val   Loss: 0.9713 | Val   Acc: 0.6729\n  Learning rate: 0.000250\nEpoch 39/50:\n  Train Loss: 1.1337 | Train Acc: 0.5909\n  Val   Loss: 0.9627 | Val   Acc: 0.6677\n  Learning rate: 0.000250\nEpoch 40/50:\n  Train Loss: 1.1287 | Train Acc: 0.5877\n  Val   Loss: 0.9656 | Val   Acc: 0.6643\n  Learning rate: 0.000250\nEpoch 41/50:\n  Train Loss: 1.1209 | Train Acc: 0.5942\n  Val   Loss: 0.9768 | Val   Acc: 0.6575\n  Learning rate: 0.000250\nEpoch 42/50:\n  Train Loss: 1.1238 | Train Acc: 0.5912\n  Val   Loss: 0.9520 | Val   Acc: 0.6710\n  Learning rate: 0.000250\nEpoch 43/50:\n  Train Loss: 1.1248 | Train Acc: 0.5902\n  Val   Loss: 0.9684 | Val   Acc: 0.6717\n  Learning rate: 0.000250\nEpoch 44/50:\n  Train Loss: 1.1185 | Train Acc: 0.5950\n  Val   Loss: 0.9770 | Val   Acc: 0.6648\n  Learning rate: 0.000250\nEpoch 45/50:\n  Train Loss: 1.1191 | Train Acc: 0.5981\n  Val   Loss: 0.9600 | Val   Acc: 0.6693\n  Learning rate: 0.000250\nEpoch 46/50:\n  Train Loss: 1.1165 | Train Acc: 0.5971\n  Val   Loss: 0.9640 | Val   Acc: 0.6742\n  Learning rate: 0.000125\nEpoch 47/50:\n  Train Loss: 1.1139 | Train Acc: 0.6010\n  Val   Loss: 0.9617 | Val   Acc: 0.6697\n  Learning rate: 0.000125\nEarly stopping triggered.\n",
          "output_type": "stream"
        }
      ],
      "execution_count": null
    },
    {
      "cell_type": "code",
      "source": [
        "#6. Đánh giá trên tập test\n",
        "test_loss, test_acc = evaluate(model, test_loader, criterion, device)\n",
        "print(f\"\\nTest Loss: {test_loss:.4f} | Test Acc: {test_acc:.4f}\")"
      ],
      "metadata": {
        "trusted": true,
        "execution": {
          "iopub.status.busy": "2025-05-31T12:20:03.351856Z",
          "iopub.execute_input": "2025-05-31T12:20:03.352091Z",
          "iopub.status.idle": "2025-05-31T12:20:51.414355Z",
          "shell.execute_reply.started": "2025-05-31T12:20:03.352075Z",
          "shell.execute_reply": "2025-05-31T12:20:51.413530Z"
        },
        "id": "jtMkpblGUuOu",
        "outputId": "1526b67c-2f1f-4dfa-aad2-7c444c53ef3c"
      },
      "outputs": [
        {
          "name": "stdout",
          "text": "\nTest Loss: 0.9796 | Test Acc: 0.6655\n",
          "output_type": "stream"
        }
      ],
      "execution_count": null
    },
    {
      "cell_type": "code",
      "source": [
        "torch.save(model, \"/kaggle/working/AlexNet_satellite_frozen.pth\")"
      ],
      "metadata": {
        "trusted": true,
        "execution": {
          "iopub.status.busy": "2025-05-31T12:20:51.415162Z",
          "iopub.execute_input": "2025-05-31T12:20:51.415406Z",
          "iopub.status.idle": "2025-05-31T12:20:51.465466Z",
          "shell.execute_reply.started": "2025-05-31T12:20:51.415389Z",
          "shell.execute_reply": "2025-05-31T12:20:51.464664Z"
        },
        "id": "OeTDIKKsUuOv"
      },
      "outputs": [],
      "execution_count": null
    }
  ]
}