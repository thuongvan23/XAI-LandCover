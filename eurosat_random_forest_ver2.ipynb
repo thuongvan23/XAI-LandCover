{
  "cells": [
    {
      "cell_type": "markdown",
      "metadata": {
        "id": "view-in-github",
        "colab_type": "text"
      },
      "source": [
        "<a href=\"https://colab.research.google.com/github/thuongvan23/XAI-LandCover/blob/kienNB/eurosat_random_forest_ver2.ipynb\" target=\"_parent\"><img src=\"https://colab.research.google.com/assets/colab-badge.svg\" alt=\"Open In Colab\"/></a>"
      ]
    },
    {
      "cell_type": "code",
      "execution_count": null,
      "id": "22d674f3",
      "metadata": {
        "colab": {
          "base_uri": "https://localhost:8080/"
        },
        "id": "22d674f3",
        "outputId": "4dba221a-f030-4d15-f601-08302996cff0"
      },
      "outputs": [
        {
          "output_type": "stream",
          "name": "stdout",
          "text": [
            "Mounted at /content/drive\n",
            "\u001b[2K   \u001b[90m━━━━━━━━━━━━━━━━━━━━━━━━━━━━━━━━━━━━━━━━\u001b[0m \u001b[32m22.2/22.2 MB\u001b[0m \u001b[31m50.5 MB/s\u001b[0m eta \u001b[36m0:00:00\u001b[0m\n",
            "\u001b[?25h"
          ]
        }
      ],
      "source": [
        "from google.colab import drive\n",
        "drive.mount('/content/drive')\n",
        "\n",
        "!pip install -q kaggle tifffile rasterio scikit-learn pandas numpy\n"
      ]
    },
    {
      "cell_type": "code",
      "execution_count": null,
      "id": "52d15996",
      "metadata": {
        "colab": {
          "base_uri": "https://localhost:8080/"
        },
        "id": "52d15996",
        "outputId": "f929e71b-dfe5-47ca-eaae-4394e0fbd95f"
      },
      "outputs": [
        {
          "output_type": "stream",
          "name": "stdout",
          "text": [
            "Dataset URL: https://www.kaggle.com/datasets/apollo2506/eurosat-dataset\n",
            "License(s): CC0-1.0\n",
            "Downloading eurosat-dataset.zip to /content\n",
            " 99% 2.03G/2.04G [00:14<00:00, 105MB/s] \n",
            "100% 2.04G/2.04G [00:14<00:00, 156MB/s]\n"
          ]
        }
      ],
      "source": [
        "!mkdir -p ~/.kaggle\n",
        "!cp \"/content/drive/MyDrive/Colab Notebooks/kaggle.json\" ~/.kaggle/\n",
        "!chmod 600 ~/.kaggle/kaggle.json\n",
        "\n",
        "!kaggle datasets download -d apollo2506/eurosat-dataset\n",
        "!unzip -q eurosat-dataset.zip -d ./eurosat_data\n"
      ]
    },
    {
      "cell_type": "code",
      "execution_count": null,
      "id": "367937b0",
      "metadata": {
        "id": "367937b0"
      },
      "outputs": [],
      "source": [
        "import os\n",
        "import pandas as pd\n",
        "import numpy as np\n",
        "import rasterio\n",
        "from sklearn.ensemble import RandomForestClassifier\n",
        "from sklearn.metrics import accuracy_score\n",
        "from torch.utils.data import Dataset\n"
      ]
    },
    {
      "cell_type": "code",
      "execution_count": null,
      "id": "09b0c832",
      "metadata": {
        "id": "09b0c832"
      },
      "outputs": [],
      "source": [
        "class EuroSATAllBands(Dataset):\n",
        "    def __init__(self, csv_file, root_dir):\n",
        "        self.data = pd.read_csv(csv_file)\n",
        "        self.root_dir = root_dir\n",
        "\n",
        "    def __len__(self):\n",
        "        return len(self.data)\n",
        "\n",
        "    def __getitem__(self, idx):\n",
        "        row = self.data.iloc[idx]\n",
        "        img_path = os.path.join(self.root_dir, row['Filename'])\n",
        "        label = int(row['Label'])\n",
        "\n",
        "        with rasterio.open(img_path) as src:\n",
        "            img = src.read().astype(np.float32)\n",
        "            img = img / 10000.0  # normalize\n",
        "\n",
        "        return img, label\n"
      ]
    },
    {
      "cell_type": "code",
      "execution_count": null,
      "id": "c170e767",
      "metadata": {
        "id": "c170e767"
      },
      "outputs": [],
      "source": [
        "def load_flattened_data(csv_path, root_dir):\n",
        "    dataset = EuroSATAllBands(csv_path, root_dir)\n",
        "    X, y = [], []\n",
        "    for i in range(len(dataset)):\n",
        "        img, label = dataset[i]\n",
        "        X.append(img.flatten())\n",
        "        y.append(label)\n",
        "    return np.array(X), np.array(y)\n",
        "\n",
        "base_path = \"/content/eurosat_data/EuroSATallBands\"\n",
        "\n",
        "train_csv = os.path.join(base_path, \"train.csv\")\n",
        "val_csv = os.path.join(base_path, \"validation.csv\")\n",
        "test_csv = os.path.join(base_path, \"test.csv\")\n",
        "\n",
        "X_train, y_train = load_flattened_data(train_csv, base_path)\n",
        "X_val, y_val     = load_flattened_data(val_csv, base_path)\n",
        "X_test, y_test   = load_flattened_data(test_csv, base_path)\n"
      ]
    },
    {
      "cell_type": "code",
      "execution_count": null,
      "id": "1a16ec42",
      "metadata": {
        "colab": {
          "base_uri": "https://localhost:8080/"
        },
        "id": "1a16ec42",
        "outputId": "1dbf8ca9-1cfb-4980-b741-c9cd31578f26"
      },
      "outputs": [
        {
          "output_type": "stream",
          "name": "stdout",
          "text": [
            "✅ Train Acc: 0.9890\n",
            "✅ Val   Acc: 0.8219\n",
            "✅ Test  Acc: 0.8358\n"
          ]
        }
      ],
      "source": [
        "from sklearn.ensemble import RandomForestClassifier\n",
        "\n",
        "rf = RandomForestClassifier(\n",
        "    n_estimators=150,\n",
        "    max_depth=25,\n",
        "    min_samples_split=10,\n",
        "    min_samples_leaf=4,\n",
        "    max_features='sqrt',\n",
        "    random_state=42,\n",
        "    n_jobs=-1\n",
        ")\n",
        "\n",
        "rf.fit(X_train, y_train)\n",
        "\n",
        "train_acc = accuracy_score(y_train, rf.predict(X_train))\n",
        "val_acc = accuracy_score(y_val, rf.predict(X_val))\n",
        "test_acc = accuracy_score(y_test, rf.predict(X_test))\n",
        "\n",
        "print(f\"✅ Train Acc: {train_acc:.4f}\")\n",
        "print(f\"✅ Val   Acc: {val_acc:.4f}\")\n",
        "print(f\"✅ Test  Acc: {test_acc:.4f}\")\n"
      ]
    }
  ],
  "metadata": {
    "colab": {
      "provenance": [],
      "include_colab_link": true
    },
    "language_info": {
      "name": "python"
    },
    "kernelspec": {
      "name": "python3",
      "display_name": "Python 3"
    }
  },
  "nbformat": 4,
  "nbformat_minor": 5
}