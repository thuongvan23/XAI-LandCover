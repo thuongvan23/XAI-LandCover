{
  "metadata": {
    "kernelspec": {
      "language": "python",
      "display_name": "Python 3",
      "name": "python3"
    },
    "language_info": {
      "name": "python",
      "version": "3.11.11",
      "mimetype": "text/x-python",
      "codemirror_mode": {
        "name": "ipython",
        "version": 3
      },
      "pygments_lexer": "ipython3",
      "nbconvert_exporter": "python",
      "file_extension": ".py"
    },
    "kaggle": {
      "accelerator": "nvidiaTeslaT4",
      "dataSources": [
        {
          "sourceId": 9618937,
          "sourceType": "datasetVersion",
          "datasetId": 5870410
        },
        {
          "sourceId": 11999811,
          "sourceType": "datasetVersion",
          "datasetId": 7548465
        }
      ],
      "dockerImageVersionId": 31040,
      "isInternetEnabled": true,
      "language": "python",
      "sourceType": "notebook",
      "isGpuEnabled": true
    },
    "colab": {
      "provenance": [],
      "include_colab_link": true
    }
  },
  "nbformat_minor": 0,
  "nbformat": 4,
  "cells": [
    {
      "cell_type": "markdown",
      "metadata": {
        "id": "view-in-github",
        "colab_type": "text"
      },
      "source": [
        "<a href=\"https://colab.research.google.com/github/thuongvan23/XAI-LandCover/blob/kienNB/mobilenet_unfrozenall_bigearthnet_(2).ipynb\" target=\"_parent\"><img src=\"https://colab.research.google.com/assets/colab-badge.svg\" alt=\"Open In Colab\"/></a>"
      ]
    },
    {
      "cell_type": "code",
      "source": [
        "import os\n",
        "import pandas as pd\n",
        "\n",
        "# Đường dẫn tới thư mục chứa ảnh (đã giải nén)\n",
        "data_dir = \"/kaggle/input/bigearthnet-12band-10m/content/bigearthnet_12band_10m\"\n",
        "\n",
        "# Đường dẫn đến file metadata.parquet đã giải nén\n",
        "parquet_path = '/kaggle/input/bigearthnetv2-reference-maps/metadata.parquet'\n",
        "\n",
        "# Đọc file parquet\n",
        "df = pd.read_parquet(parquet_path)\n",
        "\n",
        "print(df.columns)"
      ],
      "metadata": {
        "trusted": true,
        "execution": {
          "iopub.status.busy": "2025-07-02T14:23:27.032358Z",
          "iopub.execute_input": "2025-07-02T14:23:27.032578Z",
          "iopub.status.idle": "2025-07-02T14:23:29.630674Z",
          "shell.execute_reply.started": "2025-07-02T14:23:27.032555Z",
          "shell.execute_reply": "2025-07-02T14:23:29.629868Z"
        },
        "id": "q513AziTyI17",
        "outputId": "520b55e1-eb39-40d6-cabd-684ddd93ad18"
      },
      "outputs": [
        {
          "name": "stdout",
          "text": "Index(['patch_id', 'labels', 'split', 'country', 's1_name', 's2v1_name',\n       'contains_seasonal_snow', 'contains_cloud_or_shadow'],\n      dtype='object')\n",
          "output_type": "stream"
        }
      ],
      "execution_count": null
    },
    {
      "cell_type": "code",
      "source": [
        "df[\"labels\"][15]"
      ],
      "metadata": {
        "trusted": true,
        "execution": {
          "iopub.status.busy": "2025-07-02T14:23:29.632167Z",
          "iopub.execute_input": "2025-07-02T14:23:29.632959Z",
          "iopub.status.idle": "2025-07-02T14:23:29.643190Z",
          "shell.execute_reply.started": "2025-07-02T14:23:29.632937Z",
          "shell.execute_reply": "2025-07-02T14:23:29.642334Z"
        },
        "id": "ZrriQ-KZyI1-",
        "outputId": "fcff2a5e-a932-40ea-c257-5a2f0a65badf"
      },
      "outputs": [
        {
          "execution_count": 2,
          "output_type": "execute_result",
          "data": {
            "text/plain": "array(['Arable land', 'Broad-leaved forest', 'Inland waters', 'Pastures',\n       'Urban fabric'], dtype=object)"
          },
          "metadata": {}
        }
      ],
      "execution_count": null
    },
    {
      "cell_type": "code",
      "source": [
        "from collections import Counter\n",
        "from itertools import chain\n",
        "\n",
        "# Chuỗi các nhãn được gộp thành 1 danh sách lớn (flattened list)\n",
        "all_labels = list(chain.from_iterable(df['labels']))\n",
        "\n",
        "# Đếm tần suất xuất hiện của từng nhãn\n",
        "label_counts = Counter(all_labels)\n",
        "\n",
        "# In ra số nhãn duy nhất\n",
        "print(\"Số lượng nhãn duy nhất:\", len(label_counts))\n",
        "\n",
        "# In ra danh sách và số lần xuất hiện\n",
        "print(\"\\nTần suất xuất hiện của từng nhãn:\")\n",
        "for label, count in label_counts.most_common():\n",
        "    print(f\"{label:40s}: {count}\")"
      ],
      "metadata": {
        "trusted": true,
        "execution": {
          "iopub.status.busy": "2025-07-02T14:23:29.644522Z",
          "iopub.execute_input": "2025-07-02T14:23:29.644770Z",
          "iopub.status.idle": "2025-07-02T14:23:30.056206Z",
          "shell.execute_reply.started": "2025-07-02T14:23:29.644754Z",
          "shell.execute_reply": "2025-07-02T14:23:30.055389Z"
        },
        "id": "HvYQySIByI1_",
        "outputId": "7db066a6-1ff4-480d-9363-d01f60669aab"
      },
      "outputs": [
        {
          "name": "stdout",
          "text": "Số lượng nhãn duy nhất: 19\n\nTần suất xuất hiện của từng nhãn:\nArable land                             : 188025\nMixed forest                            : 165780\nConiferous forest                       : 154941\nTransitional woodland, shrub            : 141150\nBroad-leaved forest                     : 135928\nLand principally occupied by agriculture, with significant areas of natural vegetation: 122709\nComplex cultivation patterns            : 99598\nPastures                                : 95605\nUrban fabric                            : 63758\nInland waters                           : 63212\nMarine waters                           : 61832\nAgro-forestry areas                     : 33181\nPermanent crops                         : 29588\nInland wetlands                         : 20919\nMoors, heathland and sclerophyllous vegetation: 13894\nNatural grassland and sparsely vegetated areas: 11882\nIndustrial or commercial units          : 11142\nCoastal wetlands                        : 1397\nBeaches, dunes, sands                   : 1316\n",
          "output_type": "stream"
        }
      ],
      "execution_count": null
    },
    {
      "cell_type": "code",
      "source": [
        "import pandas as pd\n",
        "import numpy as np\n",
        "\n",
        "# Đọc file metadata.parquet\n",
        "parquet_path = '/kaggle/input/bigearthnetv2-reference-maps/metadata.parquet'\n",
        "df = pd.read_parquet(parquet_path)\n",
        "\n",
        "# Danh sách 19 lớp chuẩn\n",
        "class_list = [\n",
        "    'Arable land',\n",
        "    'Mixed forest',\n",
        "    'Coniferous forest',\n",
        "    'Transitional woodland, shrub',\n",
        "    'Broad-leaved forest',\n",
        "    'Land principally occupied by agriculture, with significant areas of natural vegetation',\n",
        "    'Complex cultivation patterns',\n",
        "    'Pastures',\n",
        "    'Urban fabric',\n",
        "    'Inland waters',\n",
        "    'Marine waters',\n",
        "    'Agro-forestry areas',\n",
        "    'Permanent crops',\n",
        "    'Inland wetlands',\n",
        "    'Moors, heathland and sclerophyllous vegetation',\n",
        "    'Natural grassland and sparsely vegetated areas',\n",
        "    'Industrial or commercial units',\n",
        "    'Coastal wetlands',\n",
        "    'Beaches, dunes, sands'\n",
        "]\n",
        "\n",
        "# Tạo ánh xạ từ tên nhãn sang chỉ số\n",
        "label_to_idx = {label: i for i, label in enumerate(class_list)}\n",
        "\n",
        "# Hàm chuyển danh sách nhãn thành vector 19 chiều\n",
        "def encode_labels(label_list):\n",
        "    vec = np.zeros(len(class_list), dtype=int)\n",
        "    for label in label_list:\n",
        "        if label in label_to_idx:\n",
        "            vec[label_to_idx[label]] = 1\n",
        "    return vec.tolist()\n",
        "\n",
        "# Ghi đè cột 'labels' bằng vector 19 chiều (multi-hot)\n",
        "df['labels'] = df['labels'].apply(encode_labels)\n",
        "\n",
        "# Kiểm tra kết quả\n",
        "print(df.head())\n",
        "\n",
        "# (Tùy chọn) Lưu lại file parquet hoặc CSV\n",
        "df.to_parquet('metadata_multilabel_encoded.parquet')\n"
      ],
      "metadata": {
        "trusted": true,
        "execution": {
          "iopub.status.busy": "2025-07-02T14:23:30.056977Z",
          "iopub.execute_input": "2025-07-02T14:23:30.057253Z",
          "iopub.status.idle": "2025-07-02T14:23:34.041604Z",
          "shell.execute_reply.started": "2025-07-02T14:23:30.057224Z",
          "shell.execute_reply": "2025-07-02T14:23:34.040679Z"
        },
        "id": "PWQXwLtpyI2A",
        "outputId": "f0a36256-3a7d-44bb-9c33-a963768c108d"
      },
      "outputs": [
        {
          "name": "stdout",
          "text": "                                            patch_id  \\\n0  S2A_MSIL2A_20170613T101031_N9999_R022_T33UUP_2...   \n1  S2A_MSIL2A_20170613T101031_N9999_R022_T33UUP_2...   \n2  S2A_MSIL2A_20170613T101031_N9999_R022_T33UUP_2...   \n3  S2A_MSIL2A_20170613T101031_N9999_R022_T33UUP_2...   \n4  S2A_MSIL2A_20170613T101031_N9999_R022_T33UUP_2...   \n\n                                              labels split  country  \\\n0  [1, 1, 0, 0, 1, 0, 0, 1, 0, 0, 0, 0, 0, 0, 0, ...  test  Austria   \n1  [1, 1, 0, 0, 1, 0, 0, 0, 0, 1, 0, 0, 0, 0, 0, ...  test  Austria   \n2  [1, 1, 1, 0, 1, 0, 0, 0, 0, 1, 0, 0, 0, 0, 0, ...  test  Austria   \n3  [0, 1, 1, 0, 1, 0, 1, 0, 0, 1, 0, 0, 0, 0, 0, ...  test  Austria   \n4  [0, 0, 0, 0, 1, 1, 1, 0, 0, 1, 0, 0, 0, 0, 0, ...  test  Austria   \n\n                                        s1_name  \\\n0  S1B_IW_GRDH_1SDV_20170612T165809_33UUP_26_57   \n1  S1B_IW_GRDH_1SDV_20170612T165809_33UUP_27_55   \n2  S1B_IW_GRDH_1SDV_20170612T165809_33UUP_27_56   \n3  S1B_IW_GRDH_1SDV_20170612T165809_33UUP_27_57   \n4  S1B_IW_GRDH_1SDV_20170612T165809_33UUP_27_58   \n\n                          s2v1_name  contains_seasonal_snow  \\\n0  S2A_MSIL2A_20170613T101031_26_57                   False   \n1  S2A_MSIL2A_20170613T101031_27_55                   False   \n2  S2A_MSIL2A_20170613T101031_27_56                   False   \n3  S2A_MSIL2A_20170613T101031_27_57                   False   \n4  S2A_MSIL2A_20170613T101031_27_58                   False   \n\n   contains_cloud_or_shadow  \n0                     False  \n1                     False  \n2                     False  \n3                     False  \n4                     False  \n",
          "output_type": "stream"
        }
      ],
      "execution_count": null
    },
    {
      "cell_type": "code",
      "source": [
        "df.head()"
      ],
      "metadata": {
        "trusted": true,
        "execution": {
          "iopub.status.busy": "2025-07-02T14:23:34.043460Z",
          "iopub.execute_input": "2025-07-02T14:23:34.043651Z",
          "iopub.status.idle": "2025-07-02T14:23:34.062389Z",
          "shell.execute_reply.started": "2025-07-02T14:23:34.043636Z",
          "shell.execute_reply": "2025-07-02T14:23:34.061526Z"
        },
        "id": "miCF53XcyI2A",
        "outputId": "893f022f-9df5-4e26-f4e0-1a06ba334da8"
      },
      "outputs": [
        {
          "execution_count": 5,
          "output_type": "execute_result",
          "data": {
            "text/plain": "                                            patch_id  \\\n0  S2A_MSIL2A_20170613T101031_N9999_R022_T33UUP_2...   \n1  S2A_MSIL2A_20170613T101031_N9999_R022_T33UUP_2...   \n2  S2A_MSIL2A_20170613T101031_N9999_R022_T33UUP_2...   \n3  S2A_MSIL2A_20170613T101031_N9999_R022_T33UUP_2...   \n4  S2A_MSIL2A_20170613T101031_N9999_R022_T33UUP_2...   \n\n                                              labels split  country  \\\n0  [1, 1, 0, 0, 1, 0, 0, 1, 0, 0, 0, 0, 0, 0, 0, ...  test  Austria   \n1  [1, 1, 0, 0, 1, 0, 0, 0, 0, 1, 0, 0, 0, 0, 0, ...  test  Austria   \n2  [1, 1, 1, 0, 1, 0, 0, 0, 0, 1, 0, 0, 0, 0, 0, ...  test  Austria   \n3  [0, 1, 1, 0, 1, 0, 1, 0, 0, 1, 0, 0, 0, 0, 0, ...  test  Austria   \n4  [0, 0, 0, 0, 1, 1, 1, 0, 0, 1, 0, 0, 0, 0, 0, ...  test  Austria   \n\n                                        s1_name  \\\n0  S1B_IW_GRDH_1SDV_20170612T165809_33UUP_26_57   \n1  S1B_IW_GRDH_1SDV_20170612T165809_33UUP_27_55   \n2  S1B_IW_GRDH_1SDV_20170612T165809_33UUP_27_56   \n3  S1B_IW_GRDH_1SDV_20170612T165809_33UUP_27_57   \n4  S1B_IW_GRDH_1SDV_20170612T165809_33UUP_27_58   \n\n                          s2v1_name  contains_seasonal_snow  \\\n0  S2A_MSIL2A_20170613T101031_26_57                   False   \n1  S2A_MSIL2A_20170613T101031_27_55                   False   \n2  S2A_MSIL2A_20170613T101031_27_56                   False   \n3  S2A_MSIL2A_20170613T101031_27_57                   False   \n4  S2A_MSIL2A_20170613T101031_27_58                   False   \n\n   contains_cloud_or_shadow  \n0                     False  \n1                     False  \n2                     False  \n3                     False  \n4                     False  ",
            "text/html": "<div>\n<style scoped>\n    .dataframe tbody tr th:only-of-type {\n        vertical-align: middle;\n    }\n\n    .dataframe tbody tr th {\n        vertical-align: top;\n    }\n\n    .dataframe thead th {\n        text-align: right;\n    }\n</style>\n<table border=\"1\" class=\"dataframe\">\n  <thead>\n    <tr style=\"text-align: right;\">\n      <th></th>\n      <th>patch_id</th>\n      <th>labels</th>\n      <th>split</th>\n      <th>country</th>\n      <th>s1_name</th>\n      <th>s2v1_name</th>\n      <th>contains_seasonal_snow</th>\n      <th>contains_cloud_or_shadow</th>\n    </tr>\n  </thead>\n  <tbody>\n    <tr>\n      <th>0</th>\n      <td>S2A_MSIL2A_20170613T101031_N9999_R022_T33UUP_2...</td>\n      <td>[1, 1, 0, 0, 1, 0, 0, 1, 0, 0, 0, 0, 0, 0, 0, ...</td>\n      <td>test</td>\n      <td>Austria</td>\n      <td>S1B_IW_GRDH_1SDV_20170612T165809_33UUP_26_57</td>\n      <td>S2A_MSIL2A_20170613T101031_26_57</td>\n      <td>False</td>\n      <td>False</td>\n    </tr>\n    <tr>\n      <th>1</th>\n      <td>S2A_MSIL2A_20170613T101031_N9999_R022_T33UUP_2...</td>\n      <td>[1, 1, 0, 0, 1, 0, 0, 0, 0, 1, 0, 0, 0, 0, 0, ...</td>\n      <td>test</td>\n      <td>Austria</td>\n      <td>S1B_IW_GRDH_1SDV_20170612T165809_33UUP_27_55</td>\n      <td>S2A_MSIL2A_20170613T101031_27_55</td>\n      <td>False</td>\n      <td>False</td>\n    </tr>\n    <tr>\n      <th>2</th>\n      <td>S2A_MSIL2A_20170613T101031_N9999_R022_T33UUP_2...</td>\n      <td>[1, 1, 1, 0, 1, 0, 0, 0, 0, 1, 0, 0, 0, 0, 0, ...</td>\n      <td>test</td>\n      <td>Austria</td>\n      <td>S1B_IW_GRDH_1SDV_20170612T165809_33UUP_27_56</td>\n      <td>S2A_MSIL2A_20170613T101031_27_56</td>\n      <td>False</td>\n      <td>False</td>\n    </tr>\n    <tr>\n      <th>3</th>\n      <td>S2A_MSIL2A_20170613T101031_N9999_R022_T33UUP_2...</td>\n      <td>[0, 1, 1, 0, 1, 0, 1, 0, 0, 1, 0, 0, 0, 0, 0, ...</td>\n      <td>test</td>\n      <td>Austria</td>\n      <td>S1B_IW_GRDH_1SDV_20170612T165809_33UUP_27_57</td>\n      <td>S2A_MSIL2A_20170613T101031_27_57</td>\n      <td>False</td>\n      <td>False</td>\n    </tr>\n    <tr>\n      <th>4</th>\n      <td>S2A_MSIL2A_20170613T101031_N9999_R022_T33UUP_2...</td>\n      <td>[0, 0, 0, 0, 1, 1, 1, 0, 0, 1, 0, 0, 0, 0, 0, ...</td>\n      <td>test</td>\n      <td>Austria</td>\n      <td>S1B_IW_GRDH_1SDV_20170612T165809_33UUP_27_58</td>\n      <td>S2A_MSIL2A_20170613T101031_27_58</td>\n      <td>False</td>\n      <td>False</td>\n    </tr>\n  </tbody>\n</table>\n</div>"
          },
          "metadata": {}
        }
      ],
      "execution_count": null
    },
    {
      "cell_type": "code",
      "source": [
        "import os\n",
        "\n",
        "# Đường dẫn thư mục chứa ảnh đa phổ đã xử lý\n",
        "data_dir = \"/kaggle/input/bigearthnet-12band-10m/content/bigearthnet_12band_10m\"\n",
        "\n",
        "class_counts = {}\n",
        "total_images = 0\n",
        "\n",
        "for label in sorted(os.listdir(data_dir)):\n",
        "    class_path = os.path.join(data_dir, label)\n",
        "    if os.path.isdir(class_path):\n",
        "        n_files = len([f for f in os.listdir(class_path) if f.endswith('.tif')])\n",
        "        class_counts[label] = n_files\n",
        "        total_images += n_files\n",
        "\n",
        "# In kết quả\n",
        "print(\"Số lượng ảnh mỗi class:\")\n",
        "for label, count in class_counts.items():\n",
        "    print(f\"Class {label}: {count} ảnh\")\n",
        "\n",
        "print(f\"\\nTổng số ảnh: {total_images}\")"
      ],
      "metadata": {
        "trusted": true,
        "execution": {
          "iopub.status.busy": "2025-07-02T14:23:34.063380Z",
          "iopub.execute_input": "2025-07-02T14:23:34.063634Z",
          "iopub.status.idle": "2025-07-02T14:23:35.827680Z",
          "shell.execute_reply.started": "2025-07-02T14:23:34.063616Z",
          "shell.execute_reply": "2025-07-02T14:23:35.827053Z"
        },
        "id": "767FBkc-yI2A",
        "outputId": "b168343d-b9a8-4a18-82bd-1393752da4fa"
      },
      "outputs": [
        {
          "name": "stdout",
          "text": "Số lượng ảnh mỗi class:\nClass S2A_MSIL2A_20170613T101031_N9999_R022_T33UUP: 3305 ảnh\nClass S2A_MSIL2A_20170613T101031_N9999_R022_T34VER: 6686 ảnh\nClass S2A_MSIL2A_20170617T113321_N9999_R080_T29UPU: 7986 ảnh\nClass S2A_MSIL2A_20170701T093031_N9999_R136_T35VPK: 7997 ảnh\nClass S2A_MSIL2A_20170704T112111_N9999_R037_T29SND: 8216 ảnh\nClass S2A_MSIL2A_20170717T113321_N9999_R080_T29UPA: 370 ảnh\nClass S2A_MSIL2A_20170717T113321_N9999_R080_T29UPV: 6013 ảnh\nClass S2A_MSIL2A_20170720T100031_N9999_R122_T34UDG: 1540 ảnh\nClass S2A_MSIL2A_20170803T094031_N9999_R036_T34TCR: 4864 ảnh\nClass S2A_MSIL2A_20170813T112121_N9999_R037_T29SNC: 8222 ảnh\n\nTổng số ảnh: 55199\n",
          "output_type": "stream"
        }
      ],
      "execution_count": null
    },
    {
      "cell_type": "code",
      "source": [
        "!pip install rasterio"
      ],
      "metadata": {
        "trusted": true,
        "execution": {
          "iopub.status.busy": "2025-07-02T14:23:35.828277Z",
          "iopub.execute_input": "2025-07-02T14:23:35.828448Z",
          "iopub.status.idle": "2025-07-02T14:23:40.806557Z",
          "shell.execute_reply.started": "2025-07-02T14:23:35.828434Z",
          "shell.execute_reply": "2025-07-02T14:23:40.805640Z"
        },
        "id": "tHSa4k2IyI2B",
        "outputId": "be463a2e-0c7c-49e5-d34e-52f0bd8cd6da"
      },
      "outputs": [
        {
          "name": "stdout",
          "text": "Collecting rasterio\n  Downloading rasterio-1.4.3-cp311-cp311-manylinux_2_17_x86_64.manylinux2014_x86_64.whl.metadata (9.1 kB)\nCollecting affine (from rasterio)\n  Downloading affine-2.4.0-py3-none-any.whl.metadata (4.0 kB)\nRequirement already satisfied: attrs in /usr/local/lib/python3.11/dist-packages (from rasterio) (25.3.0)\nRequirement already satisfied: certifi in /usr/local/lib/python3.11/dist-packages (from rasterio) (2025.4.26)\nRequirement already satisfied: click>=4.0 in /usr/local/lib/python3.11/dist-packages (from rasterio) (8.1.8)\nRequirement already satisfied: cligj>=0.5 in /usr/local/lib/python3.11/dist-packages (from rasterio) (0.7.2)\nRequirement already satisfied: numpy>=1.24 in /usr/local/lib/python3.11/dist-packages (from rasterio) (1.26.4)\nRequirement already satisfied: click-plugins in /usr/local/lib/python3.11/dist-packages (from rasterio) (1.1.1)\nRequirement already satisfied: pyparsing in /usr/local/lib/python3.11/dist-packages (from rasterio) (3.0.9)\nRequirement already satisfied: mkl_fft in /usr/local/lib/python3.11/dist-packages (from numpy>=1.24->rasterio) (1.3.8)\nRequirement already satisfied: mkl_random in /usr/local/lib/python3.11/dist-packages (from numpy>=1.24->rasterio) (1.2.4)\nRequirement already satisfied: mkl_umath in /usr/local/lib/python3.11/dist-packages (from numpy>=1.24->rasterio) (0.1.1)\nRequirement already satisfied: mkl in /usr/local/lib/python3.11/dist-packages (from numpy>=1.24->rasterio) (2025.1.0)\nRequirement already satisfied: tbb4py in /usr/local/lib/python3.11/dist-packages (from numpy>=1.24->rasterio) (2022.1.0)\nRequirement already satisfied: mkl-service in /usr/local/lib/python3.11/dist-packages (from numpy>=1.24->rasterio) (2.4.1)\nRequirement already satisfied: intel-openmp<2026,>=2024 in /usr/local/lib/python3.11/dist-packages (from mkl->numpy>=1.24->rasterio) (2024.2.0)\nRequirement already satisfied: tbb==2022.* in /usr/local/lib/python3.11/dist-packages (from mkl->numpy>=1.24->rasterio) (2022.1.0)\nRequirement already satisfied: tcmlib==1.* in /usr/local/lib/python3.11/dist-packages (from tbb==2022.*->mkl->numpy>=1.24->rasterio) (1.3.0)\nRequirement already satisfied: intel-cmplr-lib-rt in /usr/local/lib/python3.11/dist-packages (from mkl_umath->numpy>=1.24->rasterio) (2024.2.0)\nRequirement already satisfied: intel-cmplr-lib-ur==2024.2.0 in /usr/local/lib/python3.11/dist-packages (from intel-openmp<2026,>=2024->mkl->numpy>=1.24->rasterio) (2024.2.0)\nDownloading rasterio-1.4.3-cp311-cp311-manylinux_2_17_x86_64.manylinux2014_x86_64.whl (22.2 MB)\n\u001b[2K   \u001b[90m━━━━━━━━━━━━━━━━━━━━━━━━━━━━━━━━━━━━━━━━\u001b[0m \u001b[32m22.2/22.2 MB\u001b[0m \u001b[31m73.8 MB/s\u001b[0m eta \u001b[36m0:00:00\u001b[0m:00:01\u001b[0m00:01\u001b[0m\n\u001b[?25hDownloading affine-2.4.0-py3-none-any.whl (15 kB)\nInstalling collected packages: affine, rasterio\nSuccessfully installed affine-2.4.0 rasterio-1.4.3\n",
          "output_type": "stream"
        }
      ],
      "execution_count": null
    },
    {
      "cell_type": "code",
      "source": [
        "import numpy as np\n",
        "import rasterio\n",
        "import matplotlib.pyplot as plt\n",
        "import random\n",
        "\n",
        "# Chọn ngẫu nhiên 1 class và 1 ảnh trong class\n",
        "random_class = random.choice(os.listdir(data_dir))\n",
        "img_path = os.path.join(data_dir, random_class)\n",
        "random_img = random.choice([f for f in os.listdir(img_path) if f.endswith('.tif')])\n",
        "img_full_path = os.path.join(img_path, random_img)\n",
        "\n",
        "# Đọc ảnh\n",
        "with rasterio.open(img_full_path) as src:\n",
        "    img = src.read()  # shape: (12, H, W)\n",
        "\n",
        "# In shape\n",
        "print(f\"Shape của ảnh {random_img}: {img.shape} (channels, height, width)\")\n",
        "\n",
        "# Hiển thị ảnh (dùng band 4,3,2 tương ứng RGB)\n",
        "rgb = np.stack([img[3], img[2], img[1]], axis=-1)  # Chú ý chỉ số bắt đầu từ 0\n",
        "rgb = rgb.astype(np.float32)\n",
        "rgb /= np.max(rgb) + 1e-6  # Chuẩn hóa để hiển thị\n",
        "\n",
        "plt.figure(figsize=(6, 6))\n",
        "plt.imshow(rgb)\n",
        "plt.title(f\"{random_img} (class {random_class})\")\n",
        "plt.axis('off')\n",
        "plt.show()"
      ],
      "metadata": {
        "trusted": true,
        "execution": {
          "iopub.status.busy": "2025-07-02T14:23:40.807726Z",
          "iopub.execute_input": "2025-07-02T14:23:40.808024Z",
          "iopub.status.idle": "2025-07-02T14:23:41.775234Z",
          "shell.execute_reply.started": "2025-07-02T14:23:40.807978Z",
          "shell.execute_reply": "2025-07-02T14:23:41.774476Z"
        },
        "id": "-2oaciFWyI2B",
        "outputId": "327de50a-8d07-4e0d-c850-ef10f7f27adc"
      },
      "outputs": [
        {
          "name": "stdout",
          "text": "Shape của ảnh S2A_MSIL2A_20170701T093031_N9999_R136_T35VPK_29_56_12band.tif: (12, 120, 120) (channels, height, width)\n",
          "output_type": "stream"
        },
        {
          "output_type": "display_data",
          "data": {
            "text/plain": "<Figure size 600x600 with 1 Axes>",
            "image/png": "[encoded data removed]"
          },
          "metadata": {}
        }
      ],
      "execution_count": null
    },
    {
      "cell_type": "code",
      "source": [
        "import os\n",
        "import pandas as pd\n",
        "from sklearn.model_selection import train_test_split\n",
        "from glob import glob\n",
        "\n",
        "# 1. Đường dẫn gốc chứa các thư mục con\n",
        "IMAGE_DIR = \"/kaggle/input/bigearthnet-12band-10m/content/bigearthnet_12band_10m\"\n",
        "\n",
        "# 2. Đọc metadata chứa patch_id và labels\n",
        "df = pd.read_parquet('/kaggle/input/bigearthnetv2-reference-maps/metadata.parquet')\n",
        "\n",
        "# 3. Duyệt toàn bộ ảnh trong thư mục con, tạo ánh xạ patch_id → đường dẫn ảnh\n",
        "tif_paths = glob(os.path.join(IMAGE_DIR, \"*\", \"*_12band.tif\"))\n",
        "patch_to_path = {\n",
        "    os.path.basename(path).replace(\"_12band.tif\", \"\"): path\n",
        "    for path in tif_paths\n",
        "}\n",
        "\n",
        "# 4. Giữ lại các patch_id có ảnh thật sự\n",
        "df = df[df['patch_id'].isin(patch_to_path)]\n",
        "\n",
        "# 5. Gán cột image_path theo ánh xạ tìm được\n",
        "df['image_path'] = df['patch_id'].map(patch_to_path)\n",
        "\n",
        "# 6. Chia ngẫu nhiên train/val/test (70/15/15)\n",
        "train_val_df, test_df = train_test_split(df, test_size=0.15, random_state=42, shuffle=True)\n",
        "train_df, val_df = train_test_split(train_val_df, test_size=0.1765, random_state=42)\n",
        "\n",
        "# 7. Tạo danh sách (image_path, labels)\n",
        "train_list = list(zip(train_df['image_path'], train_df['labels']))\n",
        "val_list = list(zip(val_df['image_path'], val_df['labels']))\n",
        "test_list = list(zip(test_df['image_path'], test_df['labels']))\n",
        "\n",
        "# 8. In kết quả\n",
        "print(f\"Số ảnh train: {len(train_list)}\")\n",
        "print(f\"Số ảnh val:   {len(val_list)}\")\n",
        "print(f\"Số ảnh test:  {len(test_list)}\")"
      ],
      "metadata": {
        "trusted": true,
        "execution": {
          "iopub.status.busy": "2025-07-02T14:23:41.776200Z",
          "iopub.execute_input": "2025-07-02T14:23:41.776583Z",
          "iopub.status.idle": "2025-07-02T14:23:43.564184Z",
          "shell.execute_reply.started": "2025-07-02T14:23:41.776559Z",
          "shell.execute_reply": "2025-07-02T14:23:43.563456Z"
        },
        "id": "e7YglyRfyI2C",
        "outputId": "c8349edd-c426-4c77-953f-eec621e1a9d5"
      },
      "outputs": [
        {
          "name": "stdout",
          "text": "Số ảnh train: 37756\nSố ảnh val:   8093\nSố ảnh test:  8092\n",
          "output_type": "stream"
        }
      ],
      "execution_count": null
    },
    {
      "cell_type": "code",
      "source": [
        "# Tạo ánh xạ nhãn → chỉ số\n",
        "all_labels = sorted({label for sublist in df['labels'] for label in sublist})\n",
        "label2index = {label: idx for idx, label in enumerate(all_labels)}\n",
        "num_classes = len(label2index)\n",
        "print(\"Số lớp:\", num_classes)\n",
        "\n",
        "# Mã hóa nhãn sang vector nhị phân\n",
        "def encode_labels(label_list):\n",
        "    vec = [0] * num_classes\n",
        "    for label in label_list:\n",
        "        vec[label2index[label]] = 1\n",
        "    return vec\n",
        "\n",
        "train_df['labels'] = train_df['labels'].apply(encode_labels)\n",
        "val_df['labels'] = val_df['labels'].apply(encode_labels)\n",
        "test_df['labels'] = test_df['labels'].apply(encode_labels)\n",
        "\n",
        "# Tạo danh sách (image_path, label_vector)\n",
        "train_list = list(zip(train_df['image_path'], train_df['labels']))\n",
        "val_list = list(zip(val_df['image_path'], val_df['labels']))\n",
        "test_list = list(zip(test_df['image_path'], test_df['labels']))"
      ],
      "metadata": {
        "trusted": true,
        "execution": {
          "iopub.status.busy": "2025-07-02T14:23:43.564864Z",
          "iopub.execute_input": "2025-07-02T14:23:43.565264Z",
          "iopub.status.idle": "2025-07-02T14:23:43.730401Z",
          "shell.execute_reply.started": "2025-07-02T14:23:43.565241Z",
          "shell.execute_reply": "2025-07-02T14:23:43.729772Z"
        },
        "id": "Fzq1f0s2yI2D",
        "outputId": "1adf70be-439b-46f2-98a9-7ff5002f4e4a"
      },
      "outputs": [
        {
          "name": "stdout",
          "text": "Số lớp: 19\n",
          "output_type": "stream"
        }
      ],
      "execution_count": null
    },
    {
      "cell_type": "code",
      "source": [
        "# Kiểm tra những ảnh KHÔNG có trong metadata\n",
        "tif_patch_ids = set([os.path.basename(p).replace('_12band.tif', '') for p in tif_paths])\n",
        "metadata_patch_ids = set(df['patch_id'].tolist())\n",
        "\n",
        "missing_from_metadata = tif_patch_ids - metadata_patch_ids\n",
        "print(f\"Số ảnh KHÔNG có metadata: {len(missing_from_metadata)}\")"
      ],
      "metadata": {
        "trusted": true,
        "execution": {
          "iopub.status.busy": "2025-07-02T14:23:43.731134Z",
          "iopub.execute_input": "2025-07-02T14:23:43.731384Z",
          "iopub.status.idle": "2025-07-02T14:23:43.781883Z",
          "shell.execute_reply.started": "2025-07-02T14:23:43.731363Z",
          "shell.execute_reply": "2025-07-02T14:23:43.781324Z"
        },
        "id": "MKgj_StlyI2D",
        "outputId": "83fed214-4005-4b2a-fe75-45a4f5da460e"
      },
      "outputs": [
        {
          "name": "stdout",
          "text": "Số ảnh KHÔNG có metadata: 1258\n",
          "output_type": "stream"
        }
      ],
      "execution_count": null
    },
    {
      "cell_type": "code",
      "source": [
        "# Số ảnh thực sự trong thư mục\n",
        "print(\"Tổng số file ảnh .tif:\", len(tif_paths))\n",
        "\n",
        "# Số patch_id có metadata\n",
        "print(\"Tổng số patch_id trong metadata:\", len(df))\n",
        "\n",
        "# Số ảnh tồn tại đồng thời cả trong thư mục và metadata\n",
        "common_ids = set(df['patch_id']).intersection(set(patch_to_path))\n",
        "print(\"Số patch_id khớp được cả metadata và ảnh:\", len(common_ids))"
      ],
      "metadata": {
        "trusted": true,
        "execution": {
          "iopub.status.busy": "2025-07-02T14:23:43.782542Z",
          "iopub.execute_input": "2025-07-02T14:23:43.782712Z",
          "iopub.status.idle": "2025-07-02T14:23:43.806210Z",
          "shell.execute_reply.started": "2025-07-02T14:23:43.782698Z",
          "shell.execute_reply": "2025-07-02T14:23:43.805675Z"
        },
        "id": "I4ygl3k6yI2D",
        "outputId": "d3f01096-70fb-4d32-d1f9-501cc1f65aeb"
      },
      "outputs": [
        {
          "name": "stdout",
          "text": "Tổng số file ảnh .tif: 55199\nTổng số patch_id trong metadata: 53941\nSố patch_id khớp được cả metadata và ảnh: 53941\n",
          "output_type": "stream"
        }
      ],
      "execution_count": null
    },
    {
      "cell_type": "code",
      "source": [
        "import os\n",
        "from glob import glob\n",
        "\n",
        "# 1. Đường dẫn thư mục ảnh\n",
        "IMAGE_DIR = \"/kaggle/input/bigearthnet-12band-10m/content/bigearthnet_12band_10m\"\n",
        "\n",
        "# 2. Lấy tất cả file .tif (ảnh 12 band) trong mọi thư mục con\n",
        "tif_paths = glob(os.path.join(IMAGE_DIR, \"*\", \"*_12band.tif\"))\n",
        "\n",
        "# 3. Lấy patch_id từ tên file\n",
        "tif_patch_ids = set(os.path.basename(p).replace('_12band.tif', '') for p in tif_paths)\n",
        "\n",
        "# 4. Lấy patch_id từ metadata\n",
        "import pandas as pd\n",
        "df = pd.read_parquet('/kaggle/input/bigearthnetv2-reference-maps/metadata.parquet')\n",
        "metadata_patch_ids = set(df['patch_id'].tolist())\n",
        "\n",
        "# 5. Tìm ảnh bị thiếu trong metadata\n",
        "missing_patch_ids = tif_patch_ids - metadata_patch_ids\n",
        "\n",
        "# 6. In số lượng và một vài ví dụ\n",
        "print(f\"❌ Số ảnh .tif không có metadata: {len(missing_patch_ids)}\")\n",
        "print(\"🔍 Ví dụ các ảnh bị thiếu:\")\n",
        "for pid in list(missing_patch_ids)[:10]:\n",
        "    print(f\"- {pid}_12band.tif\")\n"
      ],
      "metadata": {
        "trusted": true,
        "execution": {
          "iopub.status.busy": "2025-07-02T14:23:43.806953Z",
          "iopub.execute_input": "2025-07-02T14:23:43.807949Z",
          "iopub.status.idle": "2025-07-02T14:23:44.810808Z",
          "shell.execute_reply.started": "2025-07-02T14:23:43.807913Z",
          "shell.execute_reply": "2025-07-02T14:23:44.810023Z"
        },
        "id": "eA8eQAm0yI2E",
        "outputId": "eb91dd3f-1d3a-4e98-b925-697283ea65db"
      },
      "outputs": [
        {
          "name": "stdout",
          "text": "❌ Số ảnh .tif không có metadata: 1258\n🔍 Ví dụ các ảnh bị thiếu:\n- S2A_MSIL2A_20170613T101031_N9999_R022_T33UUP_75_66_12band.tif\n- S2A_MSIL2A_20170701T093031_N9999_R136_T35VPK_54_68_12band.tif\n- S2A_MSIL2A_20170701T093031_N9999_R136_T35VPK_67_82_12band.tif\n- S2A_MSIL2A_20170701T093031_N9999_R136_T35VPK_01_68_12band.tif\n- S2A_MSIL2A_20170701T093031_N9999_R136_T35VPK_84_65_12band.tif\n- S2A_MSIL2A_20170701T093031_N9999_R136_T35VPK_62_52_12band.tif\n- S2A_MSIL2A_20170701T093031_N9999_R136_T35VPK_52_58_12band.tif\n- S2A_MSIL2A_20170701T093031_N9999_R136_T35VPK_55_59_12band.tif\n- S2A_MSIL2A_20170613T101031_N9999_R022_T34VER_60_78_12band.tif\n- S2A_MSIL2A_20170613T101031_N9999_R022_T33UUP_82_70_12band.tif\n",
          "output_type": "stream"
        }
      ],
      "execution_count": null
    },
    {
      "cell_type": "code",
      "source": [
        "!pip install albumentations"
      ],
      "metadata": {
        "trusted": true,
        "execution": {
          "iopub.status.busy": "2025-07-02T14:23:44.813258Z",
          "iopub.execute_input": "2025-07-02T14:23:44.813472Z",
          "iopub.status.idle": "2025-07-02T14:23:47.850457Z",
          "shell.execute_reply.started": "2025-07-02T14:23:44.813453Z",
          "shell.execute_reply": "2025-07-02T14:23:47.849655Z"
        },
        "id": "PClgVrNzyI2E",
        "outputId": "7954af45-b1e0-4003-e445-6fcd8eb10d84"
      },
      "outputs": [
        {
          "name": "stdout",
          "text": "Requirement already satisfied: albumentations in /usr/local/lib/python3.11/dist-packages (2.0.5)\nRequirement already satisfied: numpy>=1.24.4 in /usr/local/lib/python3.11/dist-packages (from albumentations) (1.26.4)\nRequirement already satisfied: scipy>=1.10.0 in /usr/local/lib/python3.11/dist-packages (from albumentations) (1.15.2)\nRequirement already satisfied: PyYAML in /usr/local/lib/python3.11/dist-packages (from albumentations) (6.0.2)\nRequirement already satisfied: pydantic>=2.9.2 in /usr/local/lib/python3.11/dist-packages (from albumentations) (2.11.4)\nRequirement already satisfied: albucore==0.0.23 in /usr/local/lib/python3.11/dist-packages (from albumentations) (0.0.23)\nRequirement already satisfied: opencv-python-headless>=4.9.0.80 in /usr/local/lib/python3.11/dist-packages (from albumentations) (4.11.0.86)\nRequirement already satisfied: stringzilla>=3.10.4 in /usr/local/lib/python3.11/dist-packages (from albucore==0.0.23->albumentations) (3.12.3)\nRequirement already satisfied: simsimd>=5.9.2 in /usr/local/lib/python3.11/dist-packages (from albucore==0.0.23->albumentations) (6.2.1)\nRequirement already satisfied: mkl_fft in /usr/local/lib/python3.11/dist-packages (from numpy>=1.24.4->albumentations) (1.3.8)\nRequirement already satisfied: mkl_random in /usr/local/lib/python3.11/dist-packages (from numpy>=1.24.4->albumentations) (1.2.4)\nRequirement already satisfied: mkl_umath in /usr/local/lib/python3.11/dist-packages (from numpy>=1.24.4->albumentations) (0.1.1)\nRequirement already satisfied: mkl in /usr/local/lib/python3.11/dist-packages (from numpy>=1.24.4->albumentations) (2025.1.0)\nRequirement already satisfied: tbb4py in /usr/local/lib/python3.11/dist-packages (from numpy>=1.24.4->albumentations) (2022.1.0)\nRequirement already satisfied: mkl-service in /usr/local/lib/python3.11/dist-packages (from numpy>=1.24.4->albumentations) (2.4.1)\nRequirement already satisfied: annotated-types>=0.6.0 in /usr/local/lib/python3.11/dist-packages (from pydantic>=2.9.2->albumentations) (0.7.0)\nRequirement already satisfied: pydantic-core==2.33.2 in /usr/local/lib/python3.11/dist-packages (from pydantic>=2.9.2->albumentations) (2.33.2)\nRequirement already satisfied: typing-extensions>=4.12.2 in /usr/local/lib/python3.11/dist-packages (from pydantic>=2.9.2->albumentations) (4.13.2)\nRequirement already satisfied: typing-inspection>=0.4.0 in /usr/local/lib/python3.11/dist-packages (from pydantic>=2.9.2->albumentations) (0.4.0)\nRequirement already satisfied: intel-openmp<2026,>=2024 in /usr/local/lib/python3.11/dist-packages (from mkl->numpy>=1.24.4->albumentations) (2024.2.0)\nRequirement already satisfied: tbb==2022.* in /usr/local/lib/python3.11/dist-packages (from mkl->numpy>=1.24.4->albumentations) (2022.1.0)\nRequirement already satisfied: tcmlib==1.* in /usr/local/lib/python3.11/dist-packages (from tbb==2022.*->mkl->numpy>=1.24.4->albumentations) (1.3.0)\nRequirement already satisfied: intel-cmplr-lib-rt in /usr/local/lib/python3.11/dist-packages (from mkl_umath->numpy>=1.24.4->albumentations) (2024.2.0)\nRequirement already satisfied: intel-cmplr-lib-ur==2024.2.0 in /usr/local/lib/python3.11/dist-packages (from intel-openmp<2026,>=2024->mkl->numpy>=1.24.4->albumentations) (2024.2.0)\n",
          "output_type": "stream"
        }
      ],
      "execution_count": null
    },
    {
      "cell_type": "code",
      "source": [
        "import albumentations as A\n",
        "from albumentations.pytorch import ToTensorV2\n",
        "\n",
        "train_transform = A.Compose([\n",
        "    # A.Normalize(mean=[0]*12, std=[1]*12, max_pixel_value=1.0),\n",
        "\n",
        "    # A.Resize(244, 224),\n",
        "    A.HorizontalFlip(p=0.5),\n",
        "    A.VerticalFlip(p=0.5),\n",
        "    A.RandomRotate90(p=0.5),\n",
        "    A.ShiftScaleRotate(shift_limit=0.1, scale_limit=0.1, rotate_limit=15, p=0.5),\n",
        "    A.Normalize(mean=0.0, std=1.0, max_pixel_value=1.0),\n",
        "    ToTensorV2(transpose_mask=True),\n",
        "])\n",
        "\n",
        "val_transform = A.Compose([\n",
        "    # A.Resize(224, 224),\n",
        "    A.Normalize(mean=[0]*12, std=[1]*12, max_pixel_value=1.0),\n",
        "    ToTensorV2(transpose_mask=False)\n",
        "])"
      ],
      "metadata": {
        "trusted": true,
        "execution": {
          "iopub.status.busy": "2025-07-02T14:23:47.851430Z",
          "iopub.execute_input": "2025-07-02T14:23:47.851660Z",
          "iopub.status.idle": "2025-07-02T14:23:53.441198Z",
          "shell.execute_reply.started": "2025-07-02T14:23:47.851628Z",
          "shell.execute_reply": "2025-07-02T14:23:53.440507Z"
        },
        "id": "Ni3RvkNryI2E",
        "outputId": "24c81862-8a5f-426a-e23c-69b690da2f4c"
      },
      "outputs": [
        {
          "name": "stderr",
          "text": "/usr/local/lib/python3.11/dist-packages/albumentations/__init__.py:28: UserWarning: A new version of Albumentations is available: '2.0.8' (you have '2.0.5'). Upgrade using: pip install -U albumentations. To disable automatic update checks, set the environment variable NO_ALBUMENTATIONS_UPDATE to 1.\n  check_for_updates()\n/usr/local/lib/python3.11/dist-packages/albumentations/core/validation.py:87: UserWarning: ShiftScaleRotate is a special case of Affine transform. Please use Affine transform instead.\n  original_init(self, **validated_kwargs)\n/usr/local/lib/python3.11/dist-packages/albumentations/augmentations/transforms.py:239: RuntimeWarning: divide by zero encountered in reciprocal\n  self.denominator = np.reciprocal(\n",
          "output_type": "stream"
        }
      ],
      "execution_count": null
    },
    {
      "cell_type": "code",
      "source": [
        "from torch.utils.data import Dataset\n",
        "import torch\n",
        "import numpy as np\n",
        "import rasterio  # dùng rasterio chứ không cần tifffile nếu bạn dùng .open()\n",
        "\n",
        "class BigEarthNetDataset(Dataset):\n",
        "    def __init__(self, data_list, transform=None):\n",
        "        self.data_list = data_list  # List of (img_path, label_list)\n",
        "        self.transform = transform\n",
        "\n",
        "    def __len__(self):\n",
        "        return len(self.data_list)\n",
        "\n",
        "    def __getitem__(self, idx):\n",
        "        img_path, label = self.data_list[idx]\n",
        "\n",
        "        with rasterio.open(img_path) as src:\n",
        "            image = src.read()  # (13, H, W)\n",
        "\n",
        "        image = image.astype(np.float32) / 10000.0\n",
        "        image = np.transpose(image, (1, 2, 0))  # (H, W, C)\n",
        "\n",
        "        if self.transform:\n",
        "            augmented = self.transform(image=image)\n",
        "            image = augmented['image']\n",
        "        else:\n",
        "            image = torch.tensor(np.transpose(image, (2, 0, 1)), dtype=torch.float32)\n",
        "\n",
        "        # Chuyển label thành Tensor float cho multi-label\n",
        "        label = torch.tensor(label, dtype=torch.float32)\n",
        "\n",
        "        return image, label"
      ],
      "metadata": {
        "trusted": true,
        "execution": {
          "iopub.status.busy": "2025-07-02T14:23:53.442040Z",
          "iopub.execute_input": "2025-07-02T14:23:53.442865Z",
          "iopub.status.idle": "2025-07-02T14:23:53.448640Z",
          "shell.execute_reply.started": "2025-07-02T14:23:53.442847Z",
          "shell.execute_reply": "2025-07-02T14:23:53.447967Z"
        },
        "id": "Gbfv5JrUyI2E"
      },
      "outputs": [],
      "execution_count": null
    },
    {
      "cell_type": "code",
      "source": [
        "from torch.utils.data import DataLoader\n",
        "\n",
        "# Batch size\n",
        "BATCH_SIZE = 16\n",
        "\n",
        "# Dataset\n",
        "train_dataset = BigEarthNetDataset(train_list, transform=train_transform)\n",
        "val_dataset = BigEarthNetDataset(val_list, transform=val_transform)\n",
        "test_dataset = BigEarthNetDataset(test_list, transform=val_transform)\n",
        "\n",
        "# DataLoader\n",
        "train_loader = DataLoader(train_dataset, batch_size=BATCH_SIZE, shuffle=True)\n",
        "val_loader = DataLoader(val_dataset, batch_size=BATCH_SIZE, shuffle=False)\n",
        "test_loader = DataLoader(test_dataset, batch_size=BATCH_SIZE, shuffle=False)"
      ],
      "metadata": {
        "trusted": true,
        "execution": {
          "iopub.status.busy": "2025-07-02T14:23:53.449468Z",
          "iopub.execute_input": "2025-07-02T14:23:53.449766Z",
          "iopub.status.idle": "2025-07-02T14:23:53.465282Z",
          "shell.execute_reply.started": "2025-07-02T14:23:53.449750Z",
          "shell.execute_reply": "2025-07-02T14:23:53.464559Z"
        },
        "id": "zydaN_3uyI2E"
      },
      "outputs": [],
      "execution_count": null
    },
    {
      "cell_type": "code",
      "source": [
        "import torch.nn as nn\n",
        "from torchvision.models import mobilenet_v3_small, MobileNet_V3_Small_Weights\n",
        "\n",
        "class MobileNetV3Small12Bands(nn.Module):\n",
        "    def __init__(self, num_classes=19):\n",
        "        super(MobileNetV3Small12Bands, self).__init__()\n",
        "        self.model = mobilenet_v3_small(weights=MobileNet_V3_Small_Weights.DEFAULT)\n",
        "        self.model.features[0][0] = nn.Conv2d(12, 16, kernel_size=3, stride=2, padding=1, bias=False)  # Adjusted for 12 bands\n",
        "        self.model.classifier[-1] = nn.Linear(self.model.classifier[-1].in_features, num_classes)  # Adjusted for 19 classes\n",
        "        for param in self.model.parameters():\n",
        "            param.requires_grad = True\n",
        "\n",
        "    def forward(self, x):\n",
        "        return self.model(x)"
      ],
      "metadata": {
        "trusted": true,
        "execution": {
          "iopub.status.busy": "2025-07-02T14:32:20.337207Z",
          "iopub.execute_input": "2025-07-02T14:32:20.337509Z",
          "iopub.status.idle": "2025-07-02T14:32:20.342896Z",
          "shell.execute_reply.started": "2025-07-02T14:32:20.337491Z",
          "shell.execute_reply": "2025-07-02T14:32:20.342149Z"
        },
        "id": "ryzEsmWyyI2F"
      },
      "outputs": [],
      "execution_count": null
    },
    {
      "cell_type": "code",
      "source": [
        "import torch\n",
        "import torch.nn as nn\n",
        "from torch.utils.data import DataLoader\n",
        "from torchvision.models import mobilenet_v3_small, MobileNet_V3_Small_Weights\n",
        "from torch.optim.lr_scheduler import ReduceLROnPlateau\n",
        "import copy\n",
        "\n",
        "# Training and evaluation functions\n",
        "def train_one_epoch(model, dataloader, optimizer, criterion):\n",
        "    model.train()\n",
        "    total_loss, correct, total = 0, 0, 0\n",
        "    for inputs, labels in dataloader:\n",
        "        if inputs.dim() == 4 and inputs.shape[-1] == 12:\n",
        "            inputs = inputs.permute(0, 3, 1, 2).contiguous()  # (N, H, W, C) -> (N, C, H, W)\n",
        "        inputs, labels = inputs.to(device), labels.to(device)\n",
        "        optimizer.zero_grad()\n",
        "        outputs = model(inputs)\n",
        "        loss = criterion(outputs, labels)\n",
        "        loss.backward()\n",
        "        optimizer.step()\n",
        "        total_loss += loss.item() * inputs.size(0)\n",
        "        predicted = (torch.sigmoid(outputs) > 0.5).float()  # Multi-label prediction\n",
        "        correct += (predicted == labels).float().sum().item()\n",
        "        total += labels.numel()\n",
        "    return total_loss / total, correct / total\n",
        "\n",
        "def evaluate(model, dataloader, criterion):\n",
        "    model.eval()\n",
        "    total_loss, correct, total = 0, 0, 0\n",
        "    with torch.no_grad():\n",
        "        for inputs, labels in dataloader:\n",
        "            if inputs.dim() == 4 and inputs.shape[-1] == 12:\n",
        "                inputs = inputs.permute(0, 3, 1, 2).contiguous()\n",
        "            inputs, labels = inputs.to(device), labels.to(device)\n",
        "            outputs = model(inputs)\n",
        "            loss = criterion(outputs, labels)\n",
        "            total_loss += loss.item() * inputs.size(0)\n",
        "            predicted = (torch.sigmoid(outputs) > 0.5).float()\n",
        "            correct += (predicted == labels).float().sum().item()\n",
        "            total += labels.numel()\n",
        "    return total_loss / total, correct / total\n",
        "\n",
        "def train_model(model, train_loader, val_loader, optimizer, criterion, epochs=50, patience=7):\n",
        "    best_model_wts = copy.deepcopy(model.state_dict())\n",
        "    best_val_loss = float('inf')\n",
        "    patience_counter = 0\n",
        "\n",
        "    for epoch in range(epochs):\n",
        "        train_loss, train_acc = train_one_epoch(model, train_loader, optimizer, criterion)\n",
        "        val_loss, val_acc = evaluate(model, val_loader, criterion)\n",
        "        scheduler.step(val_loss)\n",
        "\n",
        "        print(f\"Epoch {epoch+1}/{epochs}\")\n",
        "        print(f\"  Train Loss: {train_loss:.4f} | Train Acc: {train_acc:.4f}\")\n",
        "        print(f\"  Val   Loss: {val_loss:.4f} | Val   Acc: {val_acc:.4f}\")\n",
        "        print(f\"  Current LR: {optimizer.param_groups[0]['lr']:.6f}\")\n",
        "\n",
        "        if val_loss < best_val_loss:\n",
        "            best_val_loss = val_loss\n",
        "            best_model_wts = copy.deepcopy(model.state_dict())\n",
        "            patience_counter = 0\n",
        "        else:\n",
        "            patience_counter += 1\n",
        "            if patience_counter >= patience:\n",
        "                print(\"Early stopping triggered.\")\n",
        "                break\n",
        "\n",
        "    model.load_state_dict(best_model_wts)\n",
        "    return model\n",
        "\n",
        "# Setup device, model, criterion, optimizer, and scheduler\n",
        "device = torch.device(\"cuda\" if torch.cuda.is_available() else \"cpu\")\n",
        "model = MobileNetV3Small12Bands(num_classes=19).to(device)\n",
        "criterion = torch.nn.BCEWithLogitsLoss()\n",
        "optimizer = torch.optim.Adam(model.parameters(), lr=1e-3)\n",
        "scheduler = ReduceLROnPlateau(optimizer, mode='min', factor=0.1, patience=3)  # Removed verbose\n",
        "\n",
        "# Train the model (assuming train_loader, val_loader, test_loader are defined)\n",
        "model = train_model(model, train_loader, val_loader, optimizer, criterion, epochs=50, patience=7)\n",
        "\n",
        "# Evaluate on test set\n",
        "test_loss, test_acc = evaluate(model, test_loader, criterion)\n",
        "print(f\"Test Loss: {test_loss:.4f} | Test Acc: {test_acc:.4f}\")"
      ],
      "metadata": {
        "trusted": true,
        "execution": {
          "iopub.status.busy": "2025-07-02T14:33:49.665076Z",
          "iopub.execute_input": "2025-07-02T14:33:49.665601Z"
        },
        "id": "acoQXQw6yI2F",
        "outputId": "65ed6e8c-f55c-4951-fb17-eb29de92983d"
      },
      "outputs": [
        {
          "name": "stderr",
          "text": "Downloading: \"https://download.pytorch.org/models/mobilenet_v3_small-047dcff4.pth\" to /root/.cache/torch/hub/checkpoints/mobilenet_v3_small-047dcff4.pth\n100%|██████████| 9.83M/9.83M [00:00<00:00, 98.5MB/s]\n",
          "output_type": "stream"
        }
      ],
      "execution_count": null
    },
    {
      "cell_type": "code",
      "source": [
        "torch.save(model, \"/kaggle/working/AlexNet_satellite_unfrozen_all_BigEarthNet.pth\")"
      ],
      "metadata": {
        "trusted": true,
        "id": "AnC9vl9HyI2F"
      },
      "outputs": [],
      "execution_count": null
    }
  ]
}