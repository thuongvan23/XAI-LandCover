{
  "cells": [
    {
      "cell_type": "markdown",
      "metadata": {
        "id": "view-in-github",
        "colab_type": "text"
      },
      "source": [
        "<a href=\"https://colab.research.google.com/github/thuongvan23/XAI-LandCover/blob/kienNB/Capstone_MobileNet13Bands_Unfrozen50.ipynb\" target=\"_parent\"><img src=\"https://colab.research.google.com/assets/colab-badge.svg\" alt=\"Open In Colab\"/></a>"
      ]
    },
    {
      "cell_type": "code",
      "execution_count": null,
      "id": "0cca5e7a",
      "metadata": {
        "colab": {
          "base_uri": "https://localhost:8080/"
        },
        "id": "0cca5e7a",
        "outputId": "67c85292-f137-486a-8557-1b9d17919282"
      },
      "outputs": [
        {
          "output_type": "stream",
          "name": "stdout",
          "text": [
            "Mounted at /content/drive\n",
            "\u001b[2K   \u001b[90m━━━━━━━━━━━━━━━━━━━━━━━━━━━━━━━━━━━━━━━━\u001b[0m \u001b[32m22.2/22.2 MB\u001b[0m \u001b[31m70.2 MB/s\u001b[0m eta \u001b[36m0:00:00\u001b[0m\n",
            "\u001b[?25h"
          ]
        }
      ],
      "source": [
        "from google.colab import drive\n",
        "drive.mount('/content/drive')\n",
        "\n",
        "!pip install -q kaggle tifffile rasterio\n"
      ]
    },
    {
      "cell_type": "code",
      "execution_count": null,
      "id": "c3b7fbe6",
      "metadata": {
        "colab": {
          "base_uri": "https://localhost:8080/"
        },
        "id": "c3b7fbe6",
        "outputId": "575907d5-2e13-4806-953c-65d58566170a"
      },
      "outputs": [
        {
          "output_type": "stream",
          "name": "stdout",
          "text": [
            "Dataset URL: https://www.kaggle.com/datasets/apollo2506/eurosat-dataset\n",
            "License(s): CC0-1.0\n",
            "Downloading eurosat-dataset.zip to /content\n",
            "100% 2.04G/2.04G [00:16<00:00, 121MB/s] \n",
            "100% 2.04G/2.04G [00:16<00:00, 131MB/s]\n"
          ]
        }
      ],
      "source": [
        "!mkdir -p ~/.kaggle\n",
        "!cp \"/content/drive/MyDrive/Colab Notebooks/kaggle.json\" ~/.kaggle/\n",
        "!chmod 600 ~/.kaggle/kaggle.json\n",
        "\n",
        "!kaggle datasets download -d apollo2506/eurosat-dataset\n",
        "!unzip -q eurosat-dataset.zip -d ./eurosat_data\n"
      ]
    },
    {
      "cell_type": "code",
      "execution_count": null,
      "id": "1ef1b07e",
      "metadata": {
        "colab": {
          "base_uri": "https://localhost:8080/",
          "height": 471
        },
        "id": "1ef1b07e",
        "outputId": "4ebcd07f-e00b-4db4-995a-ac27734ab26f"
      },
      "outputs": [
        {
          "output_type": "stream",
          "name": "stdout",
          "text": [
            "Shape của ảnh: (64, 64, 13)\n"
          ]
        },
        {
          "output_type": "display_data",
          "data": {
            "text/plain": [
              "<Figure size 640x480 with 2 Axes>"
            ],
            "image/png": "[encoded data removed]"
          },
          "metadata": {}
        }
      ],
      "source": [
        "import tifffile as tiff\n",
        "import numpy as np\n",
        "import matplotlib.pyplot as plt\n",
        "\n",
        "img_path = \"/content/eurosat_data/EuroSATallBands/AnnualCrop/AnnualCrop_1.tif\"\n",
        "img = tiff.imread(img_path)\n",
        "img_normalized = img / np.max(img)\n",
        "print(\"Shape của ảnh:\", img.shape)\n",
        "plt.imshow(img_normalized[:, :, 0], cmap='gray')\n",
        "plt.title(\"Dải phổ đầu tiên\")\n",
        "plt.colorbar()\n",
        "plt.show()\n"
      ]
    },
    {
      "cell_type": "code",
      "execution_count": null,
      "id": "72b9d1d8",
      "metadata": {
        "colab": {
          "base_uri": "https://localhost:8080/"
        },
        "id": "72b9d1d8",
        "outputId": "7ed17935-66b3-4502-a2a0-43e36dd98555"
      },
      "outputs": [
        {
          "output_type": "stream",
          "name": "stdout",
          "text": [
            "EuroSATallBands/\n",
            "  test.csv\n",
            "  validation.csv\n",
            "  label_map.json\n",
            "  train.csv\n",
            "  Industrial/\n",
            "    Industrial_2499.tif\n",
            "    Industrial_1893.tif\n",
            "    Industrial_327.tif\n",
            "    Industrial_928.tif\n",
            "    Industrial_58.tif\n",
            "  Residential/\n",
            "    Residential_2678.tif\n",
            "    Residential_2937.tif\n",
            "    Residential_1563.tif\n",
            "    Residential_2032.tif\n",
            "    Residential_1486.tif\n",
            "  AnnualCrop/\n",
            "    AnnualCrop_1606.tif\n",
            "    AnnualCrop_325.tif\n",
            "    AnnualCrop_1185.tif\n",
            "    AnnualCrop_2415.tif\n",
            "    AnnualCrop_266.tif\n",
            "  SeaLake/\n",
            "    SeaLake_1971.tif\n",
            "    SeaLake_2675.tif\n",
            "    SeaLake_2896.tif\n",
            "    SeaLake_2215.tif\n",
            "    SeaLake_1093.tif\n",
            "  Pasture/\n",
            "    Pasture_1368.tif\n",
            "    Pasture_209.tif\n",
            "    Pasture_1953.tif\n",
            "    Pasture_1732.tif\n",
            "    Pasture_1415.tif\n",
            "  River/\n",
            "    River_1206.tif\n",
            "    River_2370.tif\n",
            "    River_274.tif\n",
            "    River_2466.tif\n",
            "    River_624.tif\n",
            "  PermanentCrop/\n",
            "    PermanentCrop_2412.tif\n",
            "    PermanentCrop_1797.tif\n",
            "    PermanentCrop_31.tif\n",
            "    PermanentCrop_2158.tif\n",
            "    PermanentCrop_562.tif\n",
            "  HerbaceousVegetation/\n",
            "    HerbaceousVegetation_1534.tif\n",
            "    HerbaceousVegetation_2351.tif\n",
            "    HerbaceousVegetation_1171.tif\n",
            "    HerbaceousVegetation_2688.tif\n",
            "    HerbaceousVegetation_780.tif\n",
            "  Highway/\n",
            "    Highway_1011.tif\n",
            "    Highway_2243.tif\n",
            "    Highway_2446.tif\n",
            "    Highway_68.tif\n",
            "    Highway_1343.tif\n",
            "  Forest/\n",
            "    Forest_2827.tif\n",
            "    Forest_2029.tif\n",
            "    Forest_2572.tif\n",
            "    Forest_2055.tif\n",
            "    Forest_2013.tif\n"
          ]
        }
      ],
      "source": [
        "import os\n",
        "root_dir = \"/content/eurosat_data/EuroSATallBands\"\n",
        "for root, dirs, files in os.walk(root_dir):\n",
        "    level = root.replace(root_dir, '').count(os.sep)\n",
        "    indent = ' ' * 2 * level\n",
        "    print(f\"{indent}{os.path.basename(root)}/\")\n",
        "    subindent = ' ' * 2 * (level + 1)\n",
        "    for f in files[:5]:\n",
        "        print(f\"{subindent}{f}\")\n"
      ]
    },
    {
      "cell_type": "code",
      "source": [
        "!pip install albumentations"
      ],
      "metadata": {
        "id": "ToeWW7RtS9Ou",
        "colab": {
          "base_uri": "https://localhost:8080/"
        },
        "outputId": "9657d1df-3b7d-4ce8-cbcb-89c2f229c417"
      },
      "id": "ToeWW7RtS9Ou",
      "execution_count": null,
      "outputs": [
        {
          "output_type": "stream",
          "name": "stdout",
          "text": [
            "Requirement already satisfied: albumentations in /usr/local/lib/python3.11/dist-packages (2.0.6)\n",
            "Requirement already satisfied: numpy>=1.24.4 in /usr/local/lib/python3.11/dist-packages (from albumentations) (2.0.2)\n",
            "Requirement already satisfied: scipy>=1.10.0 in /usr/local/lib/python3.11/dist-packages (from albumentations) (1.15.3)\n",
            "Requirement already satisfied: PyYAML in /usr/local/lib/python3.11/dist-packages (from albumentations) (6.0.2)\n",
            "Requirement already satisfied: pydantic>=2.9.2 in /usr/local/lib/python3.11/dist-packages (from albumentations) (2.11.4)\n",
            "Requirement already satisfied: albucore==0.0.24 in /usr/local/lib/python3.11/dist-packages (from albumentations) (0.0.24)\n",
            "Requirement already satisfied: opencv-python-headless>=4.9.0.80 in /usr/local/lib/python3.11/dist-packages (from albumentations) (4.11.0.86)\n",
            "Requirement already satisfied: stringzilla>=3.10.4 in /usr/local/lib/python3.11/dist-packages (from albucore==0.0.24->albumentations) (3.12.5)\n",
            "Requirement already satisfied: simsimd>=5.9.2 in /usr/local/lib/python3.11/dist-packages (from albucore==0.0.24->albumentations) (6.2.1)\n",
            "Requirement already satisfied: annotated-types>=0.6.0 in /usr/local/lib/python3.11/dist-packages (from pydantic>=2.9.2->albumentations) (0.7.0)\n",
            "Requirement already satisfied: pydantic-core==2.33.2 in /usr/local/lib/python3.11/dist-packages (from pydantic>=2.9.2->albumentations) (2.33.2)\n",
            "Requirement already satisfied: typing-extensions>=4.12.2 in /usr/local/lib/python3.11/dist-packages (from pydantic>=2.9.2->albumentations) (4.13.2)\n",
            "Requirement already satisfied: typing-inspection>=0.4.0 in /usr/local/lib/python3.11/dist-packages (from pydantic>=2.9.2->albumentations) (0.4.0)\n"
          ]
        }
      ]
    },
    {
      "cell_type": "code",
      "source": [
        "import albumentations as A\n",
        "from albumentations.pytorch import ToTensorV2\n",
        "\n",
        "# Tạo transform\n",
        "train_transform = A.Compose([\n",
        "    A.HorizontalFlip(p=0.5),\n",
        "    A.VerticalFlip(p=0.5),\n",
        "    A.RandomRotate90(p=0.5),\n",
        "    A.ShiftScaleRotate(shift_limit=0.1, scale_limit=0.1, rotate_limit=15, p=0.5),\n",
        "    A.Normalize(mean=0.0, std=1.0, max_pixel_value=1.0),\n",
        "    ToTensorV2(transpose_mask=True),\n",
        "])"
      ],
      "metadata": {
        "id": "qgFELpt6S9dM",
        "colab": {
          "base_uri": "https://localhost:8080/"
        },
        "outputId": "53920292-adf4-4191-c597-18cb5c99c83f"
      },
      "id": "qgFELpt6S9dM",
      "execution_count": null,
      "outputs": [
        {
          "output_type": "stream",
          "name": "stderr",
          "text": [
            "/usr/local/lib/python3.11/dist-packages/albumentations/__init__.py:28: UserWarning: A new version of Albumentations is available: '2.0.7' (you have '2.0.6'). Upgrade using: pip install -U albumentations. To disable automatic update checks, set the environment variable NO_ALBUMENTATIONS_UPDATE to 1.\n",
            "  check_for_updates()\n",
            "/usr/local/lib/python3.11/dist-packages/albumentations/core/validation.py:111: UserWarning: ShiftScaleRotate is a special case of Affine transform. Please use Affine transform instead.\n",
            "  original_init(self, **validated_kwargs)\n"
          ]
        }
      ]
    },
    {
      "cell_type": "code",
      "execution_count": null,
      "id": "3a3ce9e3",
      "metadata": {
        "id": "3a3ce9e3"
      },
      "outputs": [],
      "source": [
        "import pandas as pd\n",
        "import os\n",
        "import torch\n",
        "from torch.utils.data import Dataset\n",
        "import rasterio\n",
        "import numpy as np\n",
        "from torchvision import transforms\n",
        "\n",
        "class EuroSATCSV(Dataset):\n",
        "    def __init__(self, csv_file, root_dir, transform=None):\n",
        "        self.data = pd.read_csv(csv_file)\n",
        "        self.root_dir = root_dir\n",
        "        self.transform = transform\n",
        "\n",
        "    def __len__(self):\n",
        "        return len(self.data)\n",
        "\n",
        "    def __getitem__(self, idx):\n",
        "        row = self.data.iloc[idx]\n",
        "        img_path = os.path.join(self.root_dir, row['Filename'])\n",
        "        label = int(row['Label'])\n",
        "\n",
        "        with rasterio.open(img_path) as src:\n",
        "            img = src.read().astype(np.float32)  # (13, 64, 64)\n",
        "            img = img / 10000.0  # Scale về [0, 1]\n",
        "            img = np.transpose(img, (1, 2, 0))   # Chuyển thành (H, W, C) cho albumentations\n",
        "\n",
        "        if self.transform:\n",
        "            img = self.transform(image=img)[\"image\"]  # Albumentations trả về dict\n",
        "\n",
        "        return img, label"
      ]
    },
    {
      "cell_type": "code",
      "source": [
        "base_path = \"/content/eurosat_data/EuroSATallBands\"\n",
        "\n",
        "train_dataset = EuroSATCSV(\n",
        "    csv_file=os.path.join(base_path, \"train.csv\"),\n",
        "    root_dir=base_path,\n",
        "    transform=train_transform\n",
        ")\n",
        "\n",
        "val_dataset = EuroSATCSV(\n",
        "    csv_file=os.path.join(base_path, \"validation.csv\"),\n",
        "    root_dir=base_path,\n",
        ")\n",
        "\n",
        "test_dataset = EuroSATCSV(\n",
        "    csv_file=os.path.join(base_path, \"test.csv\"),\n",
        "    root_dir=base_path,\n",
        ")"
      ],
      "metadata": {
        "id": "5BION1fXXmwY"
      },
      "id": "5BION1fXXmwY",
      "execution_count": null,
      "outputs": []
    },
    {
      "cell_type": "code",
      "source": [
        "from torch.utils.data import DataLoader\n",
        "\n",
        "train_loader = DataLoader(train_dataset, batch_size=32, shuffle=True)\n",
        "val_loader = DataLoader(val_dataset, batch_size=32)\n",
        "test_loader = DataLoader(test_dataset, batch_size=32)"
      ],
      "metadata": {
        "id": "NN8q6gidXpU_"
      },
      "id": "NN8q6gidXpU_",
      "execution_count": null,
      "outputs": []
    },
    {
      "cell_type": "code",
      "execution_count": null,
      "id": "ecca9136",
      "metadata": {
        "id": "ecca9136"
      },
      "outputs": [],
      "source": [
        "import torch.nn as nn\n",
        "from torchvision.models import mobilenet_v2\n",
        "\n",
        "class MobileNet13Bands(nn.Module):\n",
        "    def __init__(self, num_classes=10):\n",
        "        super(MobileNet13Bands, self).__init__()\n",
        "\n",
        "        self.model = mobilenet_v2(pretrained=True)\n",
        "        self.model.features[0][0] = nn.Conv2d(13, 32, kernel_size=3, stride=2, padding=1, bias=False)\n",
        "        self.model.classifier[1] = nn.Linear(self.model.last_channel, num_classes)\n",
        "        total_layers = len(list(self.model.features))\n",
        "        freeze_until = total_layers // 2\n",
        "\n",
        "        for idx, child in enumerate(self.model.features.children()):\n",
        "            if idx < freeze_until:\n",
        "                for param in child.parameters():\n",
        "                    param.requires_grad = False\n",
        "            else:\n",
        "                for param in child.parameters():\n",
        "                    param.requires_grad = True\n",
        "\n",
        "    def forward(self, x):\n",
        "        return self.model(x)\n"
      ]
    },
    {
      "cell_type": "code",
      "execution_count": null,
      "id": "3cd684c9",
      "metadata": {
        "colab": {
          "base_uri": "https://localhost:8080/"
        },
        "id": "3cd684c9",
        "outputId": "2eed32e6-9c40-40a3-d6e4-2a791744328a"
      },
      "outputs": [
        {
          "output_type": "stream",
          "name": "stderr",
          "text": [
            "/usr/local/lib/python3.11/dist-packages/torchvision/models/_utils.py:208: UserWarning: The parameter 'pretrained' is deprecated since 0.13 and may be removed in the future, please use 'weights' instead.\n",
            "  warnings.warn(\n",
            "/usr/local/lib/python3.11/dist-packages/torchvision/models/_utils.py:223: UserWarning: Arguments other than a weight enum or `None` for 'weights' are deprecated since 0.13 and may be removed in the future. The current behavior is equivalent to passing `weights=MobileNet_V2_Weights.IMAGENET1K_V1`. You can also use `weights=MobileNet_V2_Weights.DEFAULT` to get the most up-to-date weights.\n",
            "  warnings.warn(msg)\n",
            "Downloading: \"https://download.pytorch.org/models/mobilenet_v2-b0353104.pth\" to /root/.cache/torch/hub/checkpoints/mobilenet_v2-b0353104.pth\n",
            "100%|██████████| 13.6M/13.6M [00:00<00:00, 36.0MB/s]\n",
            "/usr/local/lib/python3.11/dist-packages/torch/optim/lr_scheduler.py:62: UserWarning: The verbose parameter is deprecated. Please use get_last_lr() to access the learning rate.\n",
            "  warnings.warn(\n"
          ]
        },
        {
          "output_type": "stream",
          "name": "stdout",
          "text": [
            "Epoch 1/50\n",
            "  Train Loss: 0.5585 | Train Acc: 0.8187\n",
            "  Val   Loss: 0.2324 | Val   Acc: 0.9232\n",
            "  Current LR: 0.001000\n",
            "Epoch 2/50\n",
            "  Train Loss: 0.4010 | Train Acc: 0.8705\n",
            "  Val   Loss: 0.2312 | Val   Acc: 0.9237\n",
            "  Current LR: 0.001000\n",
            "Epoch 3/50\n",
            "  Train Loss: 0.3482 | Train Acc: 0.8885\n",
            "  Val   Loss: 0.2081 | Val   Acc: 0.9302\n",
            "  Current LR: 0.001000\n",
            "Epoch 4/50\n",
            "  Train Loss: 0.3225 | Train Acc: 0.8928\n",
            "  Val   Loss: 0.2417 | Val   Acc: 0.9252\n",
            "  Current LR: 0.001000\n",
            "Epoch 5/50\n",
            "  Train Loss: 0.3037 | Train Acc: 0.9008\n",
            "  Val   Loss: 0.1845 | Val   Acc: 0.9368\n",
            "  Current LR: 0.001000\n",
            "Epoch 6/50\n",
            "  Train Loss: 0.2922 | Train Acc: 0.9043\n",
            "  Val   Loss: 0.1799 | Val   Acc: 0.9400\n",
            "  Current LR: 0.001000\n",
            "Epoch 7/50\n",
            "  Train Loss: 0.2782 | Train Acc: 0.9085\n",
            "  Val   Loss: 0.2790 | Val   Acc: 0.9350\n",
            "  Current LR: 0.001000\n",
            "Epoch 8/50\n",
            "  Train Loss: 0.2629 | Train Acc: 0.9115\n",
            "  Val   Loss: 0.1607 | Val   Acc: 0.9484\n",
            "  Current LR: 0.001000\n",
            "Epoch 9/50\n",
            "  Train Loss: 0.2488 | Train Acc: 0.9158\n",
            "  Val   Loss: 0.1422 | Val   Acc: 0.9520\n",
            "  Current LR: 0.001000\n",
            "Epoch 10/50\n",
            "  Train Loss: 0.2380 | Train Acc: 0.9197\n",
            "  Val   Loss: 0.4401 | Val   Acc: 0.8989\n",
            "  Current LR: 0.001000\n",
            "Epoch 11/50\n",
            "  Train Loss: 0.2383 | Train Acc: 0.9206\n",
            "  Val   Loss: 0.1420 | Val   Acc: 0.9547\n",
            "  Current LR: 0.001000\n",
            "Epoch 12/50\n",
            "  Train Loss: 0.2252 | Train Acc: 0.9259\n",
            "  Val   Loss: 0.1359 | Val   Acc: 0.9551\n",
            "  Current LR: 0.001000\n",
            "Epoch 13/50\n",
            "  Train Loss: 0.2164 | Train Acc: 0.9290\n",
            "  Val   Loss: 0.1387 | Val   Acc: 0.9554\n",
            "  Current LR: 0.001000\n",
            "Epoch 14/50\n",
            "  Train Loss: 0.2193 | Train Acc: 0.9267\n",
            "  Val   Loss: 0.1337 | Val   Acc: 0.9549\n",
            "  Current LR: 0.001000\n",
            "Epoch 15/50\n",
            "  Train Loss: 0.2216 | Train Acc: 0.9271\n",
            "  Val   Loss: 0.1437 | Val   Acc: 0.9520\n",
            "  Current LR: 0.001000\n",
            "Epoch 16/50\n",
            "  Train Loss: 0.2151 | Train Acc: 0.9289\n",
            "  Val   Loss: 0.1241 | Val   Acc: 0.9576\n",
            "  Current LR: 0.001000\n",
            "Epoch 17/50\n",
            "  Train Loss: 0.2020 | Train Acc: 0.9332\n",
            "  Val   Loss: 0.1215 | Val   Acc: 0.9592\n",
            "  Current LR: 0.001000\n",
            "Epoch 18/50\n",
            "  Train Loss: 0.1939 | Train Acc: 0.9320\n",
            "  Val   Loss: 0.1420 | Val   Acc: 0.9542\n",
            "  Current LR: 0.001000\n",
            "Epoch 19/50\n",
            "  Train Loss: 0.1942 | Train Acc: 0.9349\n",
            "  Val   Loss: 0.1396 | Val   Acc: 0.9540\n",
            "  Current LR: 0.001000\n",
            "Epoch 20/50\n",
            "  Train Loss: 0.1937 | Train Acc: 0.9343\n",
            "  Val   Loss: 0.1257 | Val   Acc: 0.9565\n",
            "  Current LR: 0.001000\n",
            "Epoch 21/50\n",
            "  Train Loss: 0.1848 | Train Acc: 0.9389\n",
            "  Val   Loss: 0.1319 | Val   Acc: 0.9551\n",
            "  Current LR: 0.000100\n",
            "Epoch 22/50\n",
            "  Train Loss: 0.1472 | Train Acc: 0.9505\n",
            "  Val   Loss: 0.1051 | Val   Acc: 0.9619\n",
            "  Current LR: 0.000100\n",
            "Epoch 23/50\n",
            "  Train Loss: 0.1338 | Train Acc: 0.9539\n",
            "  Val   Loss: 0.1060 | Val   Acc: 0.9641\n",
            "  Current LR: 0.000100\n",
            "Epoch 24/50\n",
            "  Train Loss: 0.1280 | Train Acc: 0.9563\n",
            "  Val   Loss: 0.1051 | Val   Acc: 0.9641\n",
            "  Current LR: 0.000100\n",
            "Epoch 25/50\n",
            "  Train Loss: 0.1254 | Train Acc: 0.9590\n",
            "  Val   Loss: 0.0989 | Val   Acc: 0.9687\n",
            "  Current LR: 0.000100\n",
            "Epoch 26/50\n",
            "  Train Loss: 0.1219 | Train Acc: 0.9586\n",
            "  Val   Loss: 0.0974 | Val   Acc: 0.9679\n",
            "  Current LR: 0.000100\n",
            "Epoch 27/50\n",
            "  Train Loss: 0.1222 | Train Acc: 0.9576\n",
            "  Val   Loss: 0.0993 | Val   Acc: 0.9658\n",
            "  Current LR: 0.000100\n",
            "Epoch 28/50\n",
            "  Train Loss: 0.1238 | Train Acc: 0.9571\n",
            "  Val   Loss: 0.0910 | Val   Acc: 0.9694\n",
            "  Current LR: 0.000100\n",
            "Epoch 29/50\n",
            "  Train Loss: 0.1212 | Train Acc: 0.9588\n",
            "  Val   Loss: 0.0908 | Val   Acc: 0.9688\n",
            "  Current LR: 0.000100\n",
            "Epoch 30/50\n",
            "  Train Loss: 0.1208 | Train Acc: 0.9577\n",
            "  Val   Loss: 0.0932 | Val   Acc: 0.9696\n",
            "  Current LR: 0.000100\n",
            "Epoch 31/50\n",
            "  Train Loss: 0.1094 | Train Acc: 0.9614\n",
            "  Val   Loss: 0.0967 | Val   Acc: 0.9674\n",
            "  Current LR: 0.000100\n",
            "Epoch 32/50\n",
            "  Train Loss: 0.1107 | Train Acc: 0.9612\n",
            "  Val   Loss: 0.0921 | Val   Acc: 0.9687\n",
            "  Current LR: 0.000100\n",
            "Epoch 33/50\n",
            "  Train Loss: 0.1057 | Train Acc: 0.9648\n",
            "  Val   Loss: 0.0917 | Val   Acc: 0.9690\n",
            "  Current LR: 0.000010\n",
            "Epoch 34/50\n",
            "  Train Loss: 0.1063 | Train Acc: 0.9629\n",
            "  Val   Loss: 0.0893 | Val   Acc: 0.9706\n",
            "  Current LR: 0.000010\n",
            "Epoch 35/50\n",
            "  Train Loss: 0.1051 | Train Acc: 0.9641\n",
            "  Val   Loss: 0.0905 | Val   Acc: 0.9701\n",
            "  Current LR: 0.000010\n",
            "Epoch 36/50\n",
            "  Train Loss: 0.1072 | Train Acc: 0.9636\n",
            "  Val   Loss: 0.0907 | Val   Acc: 0.9697\n",
            "  Current LR: 0.000010\n",
            "Epoch 37/50\n",
            "  Train Loss: 0.1038 | Train Acc: 0.9630\n",
            "  Val   Loss: 0.0891 | Val   Acc: 0.9708\n",
            "  Current LR: 0.000010\n",
            "Epoch 38/50\n",
            "  Train Loss: 0.0996 | Train Acc: 0.9657\n",
            "  Val   Loss: 0.0892 | Val   Acc: 0.9714\n",
            "  Current LR: 0.000010\n",
            "Epoch 39/50\n",
            "  Train Loss: 0.1061 | Train Acc: 0.9651\n",
            "  Val   Loss: 0.0920 | Val   Acc: 0.9690\n",
            "  Current LR: 0.000010\n",
            "Epoch 40/50\n",
            "  Train Loss: 0.1036 | Train Acc: 0.9638\n",
            "  Val   Loss: 0.0900 | Val   Acc: 0.9697\n",
            "  Current LR: 0.000010\n",
            "Epoch 41/50\n",
            "  Train Loss: 0.1021 | Train Acc: 0.9642\n",
            "  Val   Loss: 0.0900 | Val   Acc: 0.9705\n",
            "  Current LR: 0.000001\n",
            "Epoch 42/50\n",
            "  Train Loss: 0.1045 | Train Acc: 0.9632\n",
            "  Val   Loss: 0.0900 | Val   Acc: 0.9696\n",
            "  Current LR: 0.000001\n",
            "Epoch 43/50\n",
            "  Train Loss: 0.1016 | Train Acc: 0.9659\n",
            "  Val   Loss: 0.0897 | Val   Acc: 0.9706\n",
            "  Current LR: 0.000001\n",
            "Epoch 44/50\n",
            "  Train Loss: 0.1019 | Train Acc: 0.9640\n",
            "  Val   Loss: 0.0912 | Val   Acc: 0.9697\n",
            "  Current LR: 0.000001\n",
            "Early stopping triggered.\n",
            "Test Loss: 0.0923 | Test Acc: 0.9721\n"
          ]
        }
      ],
      "source": [
        "import copy\n",
        "import torch\n",
        "from torch.optim.lr_scheduler import ReduceLROnPlateau\n",
        "\n",
        "device = torch.device(\"cuda\" if torch.cuda.is_available() else \"cpu\")\n",
        "model = MobileNet13Bands(num_classes=10).to(device)\n",
        "\n",
        "criterion = torch.nn.CrossEntropyLoss()\n",
        "optimizer = torch.optim.Adam(model.parameters(), lr=1e-3)\n",
        "\n",
        "scheduler = ReduceLROnPlateau(optimizer, mode='min', factor=0.1, patience=3, verbose=True)\n",
        "\n",
        "def train_one_epoch(model, dataloader, optimizer, criterion):\n",
        "    model.train()\n",
        "    total_loss, correct, total = 0, 0, 0\n",
        "    for inputs, labels in dataloader:\n",
        "        # Nếu input có 4 chiều và channels ở cuối (thường là (N,H,W,C))\n",
        "        if inputs.dim() == 4 and inputs.shape[-1] == 13:\n",
        "            inputs = inputs.permute(0, 3, 1, 2).contiguous()  # chuyển sang (N,C,H,W)\n",
        "\n",
        "        inputs, labels = inputs.to(device), labels.to(device)\n",
        "        optimizer.zero_grad()\n",
        "        outputs = model(inputs)\n",
        "        loss = criterion(outputs, labels)\n",
        "        loss.backward()\n",
        "        optimizer.step()\n",
        "\n",
        "        total_loss += loss.item() * inputs.size(0)\n",
        "        _, predicted = outputs.max(1)\n",
        "        correct += predicted.eq(labels).sum().item()\n",
        "        total += labels.size(0)\n",
        "    return total_loss / total, correct / total\n",
        "\n",
        "def evaluate(model, dataloader, criterion):\n",
        "    model.eval()\n",
        "    total_loss, correct, total = 0, 0, 0\n",
        "    with torch.no_grad():\n",
        "        for inputs, labels in dataloader:\n",
        "            if inputs.dim() == 4 and inputs.shape[-1] == 13:\n",
        "                inputs = inputs.permute(0, 3, 1, 2).contiguous()\n",
        "            inputs, labels = inputs.to(device), labels.to(device)\n",
        "            outputs = model(inputs)\n",
        "            loss = criterion(outputs, labels)\n",
        "            total_loss += loss.item() * inputs.size(0)\n",
        "            _, predicted = outputs.max(1)\n",
        "            correct += predicted.eq(labels).sum().item()\n",
        "            total += labels.size(0)\n",
        "    return total_loss / total, correct / total\n",
        "\n",
        "def train_model(model, train_loader, val_loader, optimizer, criterion, epochs=50, patience=7):\n",
        "    best_model_wts = copy.deepcopy(model.state_dict())\n",
        "    best_val_loss = float('inf')\n",
        "    patience_counter = 0\n",
        "\n",
        "    for epoch in range(epochs):\n",
        "        train_loss, train_acc = train_one_epoch(model, train_loader, optimizer, criterion)\n",
        "        val_loss, val_acc = evaluate(model, val_loader, criterion)\n",
        "\n",
        "        scheduler.step(val_loss)  # Giảm LR khi val_loss không cải thiện\n",
        "\n",
        "        print(f\"Epoch {epoch+1}/{epochs}\")\n",
        "        print(f\"  Train Loss: {train_loss:.4f} | Train Acc: {train_acc:.4f}\")\n",
        "        print(f\"  Val   Loss: {val_loss:.4f} | Val   Acc: {val_acc:.4f}\")\n",
        "        print(f\"  Current LR: {optimizer.param_groups[0]['lr']:.6f}\")\n",
        "\n",
        "        # Early stopping\n",
        "        if val_loss < best_val_loss:\n",
        "            best_val_loss = val_loss\n",
        "            best_model_wts = copy.deepcopy(model.state_dict())\n",
        "            patience_counter = 0\n",
        "        else:\n",
        "            patience_counter += 1\n",
        "            if patience_counter >= patience:\n",
        "                print(\"Early stopping triggered.\")\n",
        "                break\n",
        "\n",
        "    model.load_state_dict(best_model_wts)\n",
        "    return model\n",
        "\n",
        "# Huấn luyện model\n",
        "model = train_model(model, train_loader, val_loader, optimizer, criterion, epochs=50, patience=7)\n",
        "\n",
        "# Đánh giá trên tập test\n",
        "test_loss, test_acc = evaluate(model, test_loader, criterion)\n",
        "print(f\"Test Loss: {test_loss:.4f} | Test Acc: {test_acc:.4f}\")\n"
      ]
    },
    {
      "cell_type": "code",
      "execution_count": null,
      "id": "175efffa",
      "metadata": {
        "id": "175efffa"
      },
      "outputs": [],
      "source": [
        "save_path = \"/content/drive/MyDrive/Colab Notebooks/mobilenet13bands_unfrozen50.pth\"\n",
        "torch.save(model, save_path)\n"
      ]
    }
  ],
  "metadata": {
    "colab": {
      "provenance": [],
      "include_colab_link": true
    },
    "language_info": {
      "name": "python"
    },
    "kernelspec": {
      "name": "python3",
      "display_name": "Python 3"
    }
  },
  "nbformat": 4,
  "nbformat_minor": 5
}